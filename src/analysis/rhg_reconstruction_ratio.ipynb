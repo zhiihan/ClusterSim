{
 "cells": [
  {
   "cell_type": "code",
   "execution_count": 1,
   "id": "49fb2e1f",
   "metadata": {},
   "outputs": [],
   "source": [
    "import numpy as np\n",
    "from cluster_sim.app.holes import Holes\n",
    "from cluster_sim.app.grid import Grid\n",
    "from cluster_sim.app.utils import get_node_coords\n",
    "\n",
    "import os\n",
    "from joblib import delayed, Parallel\n",
    "import time\n",
    "from analysis_funcs import algorithm1, apply_error_channel, ParallelTqdm, rhgrules_extended\n",
    "import networkx as nx\n",
    "\n",
    "os.makedirs(\"./data\", exist_ok=True)\n",
    "\n",
    "shape = [40, 40, 200]\n",
    "seed = 12345\n",
    "\n",
    "samples = 1\n",
    "\n",
    "# The probabilities to simulate\n",
    "p_vec = np.linspace(0, 0.05, 10)\n",
    "\n",
    "# Input vector for all jobs\n",
    "jobs_input_vec = p_vec"
   ]
  },
  {
   "cell_type": "code",
   "execution_count": 8,
   "id": "8f6c63a5",
   "metadata": {},
   "outputs": [],
   "source": [
    "def main(input_params):\n",
    "    \"\"\"\n",
    "    Main function for parallel processing. Here, we:\n",
    "\n",
    "    1. Create a grid of the given shape\n",
    "    2. Apply the error channel to the grid\n",
    "    3. Generate a RHG lattice\n",
    "    4. Look at clusters of the RHG lattice\n",
    "    5. Return the results\n",
    "\n",
    "    Returns:\n",
    "        - p: The input parameter for the simulation\n",
    "        - percolates: The number of times percolation occurred (True: 1, False: 0)\n",
    "        - times: The average time taken for the simulation\n",
    "    \"\"\"\n",
    "    \n",
    "    p = input_params\n",
    "\n",
    "    # Sanity check: check that this is equal to the move_list on the app\n",
    "    # print(np.reshape(np.argwhere(removed_nodes == True), shape=-1))\n",
    "    \n",
    "    \n",
    "    \n",
    "    # How much nodes in an RHG lattice, when no deletion errors?\n",
    "    G2 = Grid(shape)\n",
    "    # Generate an RHG lattice out of G\n",
    "    G2, _, _ = algorithm1(G2, D=Holes(shape), removed_nodes=np.zeros(shape[0] * shape[1] * shape[2], dtype=bool), shape=shape)\n",
    "\n",
    "    G2_nx = G2.to_networkx()\n",
    "    G2_nx.remove_nodes_from(list(nx.isolates(G2_nx)))\n",
    "    ideal_rhg_num_nodes = G2_nx.number_of_nodes() \n",
    "\n",
    "    times = np.zeros(samples)\n",
    "\n",
    "    for i in range(samples):\n",
    "        start = time.time()\n",
    "\n",
    "        G = Grid(shape)\n",
    "        removed_nodes = np.zeros(shape[0] * shape[1] * shape[2], dtype=bool)\n",
    "\n",
    "        G, D, removed_nodes = apply_error_channel(p, seed + i, shape, removed_nodes, G)\n",
    "\n",
    "        # Generate an RHG lattice out of G\n",
    "        G, removed_nodes, offsets = rhgrules_extended(G, D, removed_nodes, shape)\n",
    "\n",
    "        # Algorithm 1\n",
    "        # G, removed_nodes, offsets = algorithm1(G, D, removed_nodes, shape)\n",
    "\n",
    "        # Remove isolated nodes.\n",
    "        G_nx = G.to_networkx()\n",
    "        G_nx.remove_nodes_from(list(nx.isolates(G_nx)))\n",
    "        \n",
    "        reconstructed_rhg_num_nodes = G_nx.number_of_nodes()\n",
    "        \n",
    "        print(reconstructed_rhg_num_nodes, ideal_rhg_num_nodes)\n",
    "\n",
    "        times[i] = time.time() - start \n",
    "\n",
    "    return (p, reconstructed_rhg_num_nodes, ideal_rhg_num_nodes, times.mean())\n"
   ]
  },
  {
   "cell_type": "code",
   "execution_count": 9,
   "id": "a29c2fbb",
   "metadata": {},
   "outputs": [
    {
     "name": "stderr",
     "output_type": "stream",
     "text": [
      "  0%|          | 0/10 [00:00<?, ?tasks/s]"
     ]
    },
    {
     "name": "stdout",
     "output_type": "stream",
     "text": [
      "hole locations [1152. 1178. 1181. 1164. 1199. 1214. 1170. 1226. 1200. 1218. 1180. 1216.\n",
      " 1231. 1202. 1250. 1209. 1201. 1208. 1194. 1176. 1225. 1175. 1166. 1227.\n",
      " 1174. 1186. 1206.]\n",
      "hole locations [2888. 2896. 2924. 2905. 3041. 3049. 2881. 2960. 3005. 2939. 3004. 2899.\n",
      " 2895. 3088. 2963. 2974. 3110. 3022. 2948. 2900. 2938. 2917. 2997. 3015.\n",
      " 2938. 2961. 3016.]\n",
      "hole locations [2311. 2381. 2328. 2369. 2405. 2418. 2391. 2506. 2519. 2317. 2427. 2367.\n",
      " 2364. 2440. 2446. 2271. 2426. 2432. 2300. 2380. 2319. 2334. 2380. 2385.\n",
      " 2302. 2427. 2432.]\n",
      "hole locations [4022. 4204. 4154. 4147. 4257. 4333. 4067. 4142. 4181. 4026. 4193. 4152.\n",
      " 4112. 4207. 4292. 4146. 4206. 4254. 4014. 4203. 4062. 4037. 4154. 4139.\n",
      " 4153. 4235. 4183.]\n",
      "hole locations [3414. 3556. 3478. 3503. 3591. 3572. 3471. 3604. 3648. 3427. 3485. 3470.\n",
      " 3565. 3569. 3613. 3543. 3592. 3699. 3458. 3567. 3439. 3524. 3579. 3510.\n",
      " 3542. 3642. 3636.]\n",
      "hole locations [531. 613. 592. 576. 628. 640. 584. 610. 611. 565. 577. 582. 628. 610.\n",
      " 648. 633. 589. 616. 556. 589. 564. 598. 601. 609. 624. 601. 598.]\n",
      "hole locations [0. 0. 0. 0. 0. 0. 0. 0. 0. 0. 0. 0. 0. 0. 0. 0. 0. 0. 0. 0. 0. 0. 0. 0.\n",
      " 0. 0. 0.]\n",
      "hole locations [1693. 1731. 1794. 1722. 1799. 1801. 1811. 1878. 1887. 1730. 1767. 1773.\n",
      " 1727. 1803. 1748. 1782. 1848. 1800. 1769. 1747. 1773. 1787. 1804. 1769.\n",
      " 1822. 1829. 1801.]\n",
      "208818 240000\n"
     ]
    },
    {
     "name": "stderr",
     "output_type": "stream",
     "text": [
      " 10%|█         | 1/10 [00:30<04:31, 30.21s/tasks]"
     ]
    },
    {
     "name": "stdout",
     "output_type": "stream",
     "text": [
      "205373 240000\n"
     ]
    },
    {
     "name": "stderr",
     "output_type": "stream",
     "text": [
      " 20%|██        | 2/10 [00:31<01:44, 13.05s/tasks]"
     ]
    },
    {
     "name": "stdout",
     "output_type": "stream",
     "text": [
      "207086 240000\n",
      "203577 240000\n"
     ]
    },
    {
     "name": "stderr",
     "output_type": "stream",
     "text": [
      " 40%|████      | 4/10 [00:32<00:27,  4.56s/tasks]"
     ]
    },
    {
     "name": "stdout",
     "output_type": "stream",
     "text": [
      "204223 240000\n"
     ]
    },
    {
     "name": "stderr",
     "output_type": "stream",
     "text": [
      " 50%|█████     | 5/10 [00:32<00:15,  3.15s/tasks]"
     ]
    },
    {
     "name": "stdout",
     "output_type": "stream",
     "text": [
      "210011 240000\n",
      "216960 240000\n"
     ]
    },
    {
     "name": "stderr",
     "output_type": "stream",
     "text": [
      " 60%|██████    | 6/10 [00:34<00:10,  2.53s/tasks]"
     ]
    },
    {
     "name": "stdout",
     "output_type": "stream",
     "text": [
      "208251 240000\n"
     ]
    },
    {
     "name": "stderr",
     "output_type": "stream",
     "text": [
      " 80%|████████  | 8/10 [00:34<00:02,  1.45s/tasks]"
     ]
    },
    {
     "name": "stdout",
     "output_type": "stream",
     "text": [
      "hole locations [4553. 4600. 4732. 4710. 4727. 4907. 4657. 4809. 4827. 4681. 4802. 4802.\n",
      " 4643. 4734. 4782. 4684. 4910. 4796. 4631. 4700. 4781. 4725. 4764. 4893.\n",
      " 4686. 4860. 4827.]\n",
      "hole locations [5089. 5256. 5283. 5270. 5487. 5504. 5259. 5477. 5422. 5235. 5277. 5308.\n",
      " 5323. 5415. 5436. 5342. 5435. 5384. 5183. 5288. 5264. 5319. 5474. 5440.\n",
      " 5346. 5502. 5396.]\n"
     ]
    },
    {
     "name": "stderr",
     "output_type": "stream",
     "text": [
      " 90%|█████████ | 9/10 [00:43<00:03,  3.27s/tasks]"
     ]
    },
    {
     "name": "stdout",
     "output_type": "stream",
     "text": [
      "201820 240000\n"
     ]
    },
    {
     "name": "stderr",
     "output_type": "stream",
     "text": [
      "100%|██████████| 10/10 [00:44<00:00,  4.41s/tasks]"
     ]
    },
    {
     "name": "stdout",
     "output_type": "stream",
     "text": [
      "201175 240000\n",
      "[[0.00000000e+00 2.16960000e+05 2.40000000e+05 2.43050611e+01]\n",
      " [5.55555556e-03 2.10011000e+05 2.40000000e+05 2.32203600e+01]\n",
      " [1.11111111e-02 2.08818000e+05 2.40000000e+05 2.43309240e+01]\n",
      " [1.66666667e-02 2.08251000e+05 2.40000000e+05 2.48308618e+01]\n",
      " [2.22222222e-02 2.07086000e+05 2.40000000e+05 2.59111450e+01]\n",
      " [2.77777778e-02 2.05373000e+05 2.40000000e+05 2.55086360e+01]\n",
      " [3.33333333e-02 2.04223000e+05 2.40000000e+05 2.68919780e+01]\n",
      " [3.88888889e-02 2.03577000e+05 2.40000000e+05 2.60985839e+01]\n",
      " [4.44444444e-02 2.01820000e+05 2.40000000e+05 6.69966292e+00]\n",
      " [5.00000000e-02 2.01175000e+05 2.40000000e+05 7.33546305e+00]]\n"
     ]
    },
    {
     "name": "stderr",
     "output_type": "stream",
     "text": [
      "\n"
     ]
    },
    {
     "name": "stderr",
     "output_type": "stream",
     "text": [
      "Exception ignored in: <function ResourceTracker.__del__ at 0x102f4a980>\n",
      "Traceback (most recent call last):\n",
      "  File \"/Users/zhihan/miniconda3/envs/mbqc/lib/python3.12/multiprocessing/resource_tracker.py\", line 77, in __del__\n",
      "  File \"/Users/zhihan/miniconda3/envs/mbqc/lib/python3.12/multiprocessing/resource_tracker.py\", line 86, in _stop\n",
      "  File \"/Users/zhihan/miniconda3/envs/mbqc/lib/python3.12/multiprocessing/resource_tracker.py\", line 111, in _stop_locked\n",
      "ChildProcessError: [Errno 10] No child processes\n",
      "Exception ignored in: <function ResourceTracker.__del__ at 0x10257a980>\n",
      "Traceback (most recent call last):\n",
      "  File \"/Users/zhihan/miniconda3/envs/mbqc/lib/python3.12/multiprocessing/resource_tracker.py\", line 77, in __del__\n",
      "  File \"/Users/zhihan/miniconda3/envs/mbqc/lib/python3.12/multiprocessing/resource_tracker.py\", line 86, in _stop\n",
      "  File \"/Users/zhihan/miniconda3/envs/mbqc/lib/python3.12/multiprocessing/resource_tracker.py\", line 111, in _stop_locked\n",
      "ChildProcessError: [Errno 10] No child processes\n",
      "Exception ignored in: <function ResourceTracker.__del__ at 0x110802980>\n",
      "Traceback (most recent call last):\n",
      "  File \"/Users/zhihan/miniconda3/envs/mbqc/lib/python3.12/multiprocessing/resource_tracker.py\", line 77, in __del__\n",
      "  File \"/Users/zhihan/miniconda3/envs/mbqc/lib/python3.12/multiprocessing/resource_tracker.py\", line 86, in _stop\n",
      "  File \"/Users/zhihan/miniconda3/envs/mbqc/lib/python3.12/multiprocessing/resource_tracker.py\", line 111, in _stop_locked\n",
      "ChildProcessError: [Errno 10] No child processes\n",
      "Exception ignored in: <function ResourceTracker.__del__ at 0x110e7a980>\n",
      "Traceback (most recent call last):\n",
      "  File \"/Users/zhihan/miniconda3/envs/mbqc/lib/python3.12/multiprocessing/resource_tracker.py\", line 77, in __del__\n",
      "  File \"/Users/zhihan/miniconda3/envs/mbqc/lib/python3.12/multiprocessing/resource_tracker.py\", line 86, in _stop\n",
      "  File \"/Users/zhihan/miniconda3/envs/mbqc/lib/python3.12/multiprocessing/resource_tracker.py\", line 111, in _stop_locked\n",
      "ChildProcessError: [Errno 10] No child processes\n",
      "Exception ignored in: <function ResourceTracker.__del__ at 0x104b3a980>\n",
      "Traceback (most recent call last):\n",
      "  File \"/Users/zhihan/miniconda3/envs/mbqc/lib/python3.12/multiprocessing/resource_tracker.py\", line 77, in __del__\n",
      "  File \"/Users/zhihan/miniconda3/envs/mbqc/lib/python3.12/multiprocessing/resource_tracker.py\", line 86, in _stop\n",
      "  File \"/Users/zhihan/miniconda3/envs/mbqc/lib/python3.12/multiprocessing/resource_tracker.py\", line 111, in _stop_locked\n",
      "ChildProcessError: [Errno 10] No child processes\n",
      "Exception ignored in: <function ResourceTracker.__del__ at 0x106f02980>\n",
      "Traceback (most recent call last):\n",
      "  File \"/Users/zhihan/miniconda3/envs/mbqc/lib/python3.12/multiprocessing/resource_tracker.py\", line 77, in __del__\n",
      "  File \"/Users/zhihan/miniconda3/envs/mbqc/lib/python3.12/multiprocessing/resource_tracker.py\", line 86, in _stop\n",
      "  File \"/Users/zhihan/miniconda3/envs/mbqc/lib/python3.12/multiprocessing/resource_tracker.py\", line 111, in _stop_locked\n",
      "ChildProcessError: [Errno 10] No child processes\n",
      "Exception ignored in: <function ResourceTracker.__del__ at 0x104276980>\n",
      "Traceback (most recent call last):\n",
      "  File \"/Users/zhihan/miniconda3/envs/mbqc/lib/python3.12/multiprocessing/resource_tracker.py\", line 77, in __del__\n",
      "  File \"/Users/zhihan/miniconda3/envs/mbqc/lib/python3.12/multiprocessing/resource_tracker.py\", line 86, in _stop\n",
      "  File \"/Users/zhihan/miniconda3/envs/mbqc/lib/python3.12/multiprocessing/resource_tracker.py\", line 111, in _stop_locked\n",
      "ChildProcessError: [Errno 10] No child processes\n",
      "Exception ignored in: <function ResourceTracker.__del__ at 0x10465a980>\n",
      "Traceback (most recent call last):\n",
      "  File \"/Users/zhihan/miniconda3/envs/mbqc/lib/python3.12/multiprocessing/resource_tracker.py\", line 77, in __del__\n",
      "  File \"/Users/zhihan/miniconda3/envs/mbqc/lib/python3.12/multiprocessing/resource_tracker.py\", line 86, in _stop\n",
      "  File \"/Users/zhihan/miniconda3/envs/mbqc/lib/python3.12/multiprocessing/resource_tracker.py\", line 111, in _stop_locked\n",
      "ChildProcessError: [Errno 10] No child processes\n"
     ]
    }
   ],
   "source": [
    "results = ParallelTqdm(n_jobs=-1)([delayed(main)(x) for x in jobs_input_vec])\n",
    "results = np.array(results)\n",
    "print(results)"
   ]
  },
  {
   "cell_type": "code",
   "execution_count": null,
   "id": "1763c797",
   "metadata": {},
   "outputs": [
    {
     "data": {
      "image/png": "[encoded data removed]",
      "text/plain": [
       "<Figure size 640x480 with 1 Axes>"
      ]
     },
     "metadata": {},
     "output_type": "display_data"
    }
   ],
   "source": [
    "import matplotlib.pyplot as plt\n",
    "\n",
    "plt.rcParams.update({\n",
    "    \"text.usetex\": True,\n",
    "    'font.family': 'serif',\n",
    "    'font.serif': ['Computer Modern']    \n",
    "    })\n",
    "\n",
    "plt.plot(results[:, 0], results[:,0], \"o-\", label=\"y = x\")\n",
    "plt.plot(results[:, 0], (1 - results[:, 1]/results[:, 2]), \"o-\", label=\"Suppressing deletion rate\")\n",
    "plt.xlabel(r\"Probability of deletion $p$\")\n",
    "plt.ylabel(r\"Effective deletion ratio $p$\")\n",
    "plt.title(r\"With vs. without shifting, $(d_x, d_y, d_z)=(20, 20, 200)$\")\n",
    "plt.legend()\n",
    "#plt.savefig(f\"data/effective_ratio.pdf\", dpi=300)\n"
   ]
  },
  {
   "cell_type": "code",
   "execution_count": null,
   "id": "2817ad7d",
   "metadata": {},
   "outputs": [],
   "source": []
  },
  {
   "cell_type": "code",
   "execution_count": null,
   "id": "5031bf84",
   "metadata": {},
   "outputs": [],
   "source": []
  }
 ],
 "metadata": {
  "kernelspec": {
   "display_name": "mbqc",
   "language": "python",
   "name": "python3"
  },
  "language_info": {
   "codemirror_mode": {
    "name": "ipython",
    "version": 3
   },
   "file_extension": ".py",
   "mimetype": "text/x-python",
   "name": "python",
   "nbconvert_exporter": "python",
   "pygments_lexer": "ipython3",
   "version": "3.12.10"
  }
 },
 "nbformat": 4,
 "nbformat_minor": 5
}
