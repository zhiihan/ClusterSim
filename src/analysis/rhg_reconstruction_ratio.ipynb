{
 "cells": [
  {
   "cell_type": "code",
   "execution_count": 16,
   "id": "49fb2e1f",
   "metadata": {},
   "outputs": [],
   "source": [
    "import numpy as np\n",
    "from cluster_sim.app.holes import Holes\n",
    "from cluster_sim.app.grid import Grid\n",
    "from cluster_sim.app.utils import get_node_coords\n",
    "\n",
    "import os\n",
    "from joblib import delayed, Parallel\n",
    "import time\n",
    "from analysis_funcs import algorithm1, apply_error_channel, ParallelTqdm\n",
    "import networkx as nx\n",
    "\n",
    "os.makedirs(\"./data\", exist_ok=True)\n",
    "\n",
    "shape = [50, 50, 200]\n",
    "seed = 12345\n",
    "\n",
    "samples = 1\n",
    "\n",
    "# The probabilities to simulate\n",
    "p_vec = np.linspace(0, 0.05, 10)\n",
    "\n",
    "# Input vector for all jobs\n",
    "jobs_input_vec = p_vec"
   ]
  },
  {
   "cell_type": "code",
   "execution_count": 17,
   "id": "8f6c63a5",
   "metadata": {},
   "outputs": [],
   "source": [
    "def main(input_params):\n",
    "    \"\"\"\n",
    "    Main function for parallel processing. Here, we:\n",
    "\n",
    "    1. Create a grid of the given shape\n",
    "    2. Apply the error channel to the grid\n",
    "    3. Generate a RHG lattice\n",
    "    4. Look at clusters of the RHG lattice\n",
    "    5. Return the results\n",
    "\n",
    "    Returns:\n",
    "        - p: The input parameter for the simulation\n",
    "        - percolates: The number of times percolation occurred (True: 1, False: 0)\n",
    "        - times: The average time taken for the simulation\n",
    "    \"\"\"\n",
    "    \n",
    "    p = input_params\n",
    "\n",
    "    # Sanity check: check that this is equal to the move_list on the app\n",
    "    # print(np.reshape(np.argwhere(removed_nodes == True), shape=-1))\n",
    "    \n",
    "    \n",
    "    \n",
    "    # How much nodes in an RHG lattice, when no deletion errors?\n",
    "    G2 = Grid(shape)\n",
    "    # Generate an RHG lattice out of G\n",
    "    G2, _, _ = algorithm1(G2, D=Holes(shape), removed_nodes=np.zeros(shape[0] * shape[1] * shape[2], dtype=bool), shape=shape)\n",
    "\n",
    "    G2_nx = G2.to_networkx()\n",
    "    G2_nx.remove_nodes_from(list(nx.isolates(G2_nx)))\n",
    "    ideal_rhg_num_nodes = G2_nx.number_of_nodes() \n",
    "\n",
    "    times = np.zeros(samples)\n",
    "\n",
    "    for i in range(samples):\n",
    "        start = time.time()\n",
    "\n",
    "        G = Grid(shape)\n",
    "        removed_nodes = np.zeros(shape[0] * shape[1] * shape[2], dtype=bool)\n",
    "\n",
    "        G, D, removed_nodes = apply_error_channel(p, seed + i, shape, removed_nodes, G)\n",
    "\n",
    "        # Generate an RHG lattice out of G\n",
    "        G, removed_nodes, offsets = algorithm1(G, D, removed_nodes, shape)\n",
    "\n",
    "        # Remove isolated nodes.\n",
    "        G_nx = G.to_networkx()\n",
    "        G_nx.remove_nodes_from(list(nx.isolates(G_nx)))\n",
    "        \n",
    "        reconstructed_rhg_num_nodes = G_nx.number_of_nodes()\n",
    "        \n",
    "        print(reconstructed_rhg_num_nodes, ideal_rhg_num_nodes)\n",
    "\n",
    "        times[i] = time.time() - start \n",
    "\n",
    "    return (p, reconstructed_rhg_num_nodes, ideal_rhg_num_nodes, times.mean())\n"
   ]
  },
  {
   "cell_type": "code",
   "execution_count": 18,
   "id": "a29c2fbb",
   "metadata": {},
   "outputs": [
    {
     "name": "stderr",
     "output_type": "stream",
     "text": [
      "  0%|          | 0/10 [00:00<?, ?tasks/s]"
     ]
    },
    {
     "name": "stdout",
     "output_type": "stream",
     "text": [
      "hole locations [0. 0. 0. 0. 0. 0. 0. 0.]\n",
      "hole locations [0. 0. 0. 0. 0. 0. 0. 0.]\n",
      "hole locations [0. 0. 0. 0. 0. 0. 0. 0.]\n",
      "hole locations [0. 0. 0. 0. 0. 0. 0. 0.]\n",
      "hole locations [0. 0. 0. 0. 0. 0. 0. 0.]\n",
      "hole locations [0. 0. 0. 0. 0. 0. 0. 0.]\n",
      "hole locations [0. 0. 0. 0. 0. 0. 0. 0.]\n",
      "hole locations [0. 0. 0. 0. 0. 0. 0. 0.]\n",
      "hole locations [0. 0. 0. 0. 0. 0. 0. 0.]\n",
      "hole locations [3426. 3418. 3544. 3396. 3396. 3544. 3418. 3426.]\n",
      "hole locations [4867. 4825. 4836. 4932. 4932. 4836. 4825. 4867.]\n",
      "hole locations [1448. 1420. 1402. 1327. 1327. 1402. 1420. 1448.]\n",
      "hole locations [2782. 2694. 2813. 2796. 2796. 2813. 2694. 2782.]\n",
      "hole locations [4145. 4211. 4092. 4107. 4107. 4092. 4211. 4145.]\n",
      "hole locations [2023. 2065. 2119. 2059. 2059. 2119. 2065. 2023.]\n",
      "hole locations [697. 696. 702. 723. 723. 702. 696. 697.]\n",
      "375000 375000\n",
      "360471 375000\n",
      "364760 375000\n",
      "370851 375000\n",
      "366727 375000\n",
      "362656 375000\n"
     ]
    },
    {
     "name": "stderr",
     "output_type": "stream",
     "text": [
      " 10%|█         | 1/10 [01:22<12:24, 82.77s/tasks]"
     ]
    },
    {
     "name": "stdout",
     "output_type": "stream",
     "text": [
      "368852 375000\n"
     ]
    },
    {
     "name": "stderr",
     "output_type": "stream",
     "text": [
      " 50%|█████     | 5/10 [01:23<00:36,  7.33s/tasks]"
     ]
    },
    {
     "name": "stdout",
     "output_type": "stream",
     "text": [
      "372905 375000\n"
     ]
    },
    {
     "name": "stderr",
     "output_type": "stream",
     "text": [
      " 80%|████████  | 8/10 [01:24<00:05,  2.86s/tasks]"
     ]
    },
    {
     "name": "stdout",
     "output_type": "stream",
     "text": [
      "hole locations [0. 0. 0. 0. 0. 0. 0. 0.]\n",
      "hole locations [0. 0. 0. 0. 0. 0. 0. 0.]\n",
      "hole locations [6258. 6342. 6316. 6192. 6192. 6316. 6342. 6258.]\n",
      "hole locations [5610. 5439. 5622. 5620. 5620. 5622. 5439. 5610.]\n"
     ]
    },
    {
     "name": "stderr",
     "output_type": "stream",
     "text": [
      " 90%|█████████ | 9/10 [01:38<00:06,  6.05s/tasks]"
     ]
    },
    {
     "name": "stdout",
     "output_type": "stream",
     "text": [
      "358329 375000\n",
      "356227 375000\n"
     ]
    },
    {
     "name": "stderr",
     "output_type": "stream",
     "text": [
      "100%|██████████| 10/10 [01:38<00:00,  9.90s/tasks]"
     ]
    },
    {
     "name": "stdout",
     "output_type": "stream",
     "text": [
      "[[0.00000000e+00 3.75000000e+05 3.75000000e+05 5.00371277e+01]\n",
      " [5.55555556e-03 3.72905000e+05 3.75000000e+05 5.11368630e+01]\n",
      " [1.11111111e-02 3.70851000e+05 3.75000000e+05 5.08400578e+01]\n",
      " [1.66666667e-02 3.68852000e+05 3.75000000e+05 5.03631482e+01]\n",
      " [2.22222222e-02 3.66727000e+05 3.75000000e+05 5.08332782e+01]\n",
      " [2.77777778e-02 3.64760000e+05 3.75000000e+05 5.31917589e+01]\n",
      " [3.33333333e-02 3.62656000e+05 3.75000000e+05 5.19935069e+01]\n",
      " [3.88888889e-02 3.60471000e+05 3.75000000e+05 5.06065581e+01]\n",
      " [4.44444444e-02 3.58329000e+05 3.75000000e+05 5.07801914e+00]\n",
      " [5.00000000e-02 3.56227000e+05 3.75000000e+05 5.22026777e+00]]\n"
     ]
    },
    {
     "name": "stderr",
     "output_type": "stream",
     "text": [
      "\n"
     ]
    }
   ],
   "source": [
    "results = ParallelTqdm(n_jobs=-1)([delayed(main)(x) for x in jobs_input_vec])\n",
    "results = np.array(results)\n",
    "print(results)"
   ]
  },
  {
   "cell_type": "code",
   "execution_count": null,
   "id": "1763c797",
   "metadata": {},
   "outputs": [
    {
     "data": {
      "image/png": "[encoded data removed]",
      "text/plain": [
       "<Figure size 640x480 with 1 Axes>"
      ]
     },
     "metadata": {},
     "output_type": "display_data"
    },
    {
     "name": "stderr",
     "output_type": "stream",
     "text": [
      "Exception ignored in: <function ResourceTracker.__del__ at 0x10827a980>\n",
      "Traceback (most recent call last):\n",
      "  File \"/Users/zhihan/miniconda3/envs/mbqc/lib/python3.12/multiprocessing/resource_tracker.py\", line 77, in __del__\n",
      "  File \"/Users/zhihan/miniconda3/envs/mbqc/lib/python3.12/multiprocessing/resource_tracker.py\", line 86, in _stop\n",
      "  File \"/Users/zhihan/miniconda3/envs/mbqc/lib/python3.12/multiprocessing/resource_tracker.py\", line 111, in _stop_locked\n",
      "ChildProcessError: [Errno 10] No child processes\n",
      "Exception ignored in: <function ResourceTracker.__del__ at 0x102f52980>\n",
      "Traceback (most recent call last):\n",
      "  File \"/Users/zhihan/miniconda3/envs/mbqc/lib/python3.12/multiprocessing/resource_tracker.py\", line 77, in __del__\n",
      "  File \"/Users/zhihan/miniconda3/envs/mbqc/lib/python3.12/multiprocessing/resource_tracker.py\", line 86, in _stop\n",
      "  File \"/Users/zhihan/miniconda3/envs/mbqc/lib/python3.12/multiprocessing/resource_tracker.py\", line 111, in _stop_locked\n",
      "ChildProcessError: [Errno 10] No child processes\n",
      "Exception ignored in: <function ResourceTracker.__del__ at 0x104b7a980>\n",
      "Traceback (most recent call last):\n",
      "  File \"/Users/zhihan/miniconda3/envs/mbqc/lib/python3.12/multiprocessing/resource_tracker.py\", line 77, in __del__\n",
      "  File \"/Users/zhihan/miniconda3/envs/mbqc/lib/python3.12/multiprocessing/resource_tracker.py\", line 86, in _stop\n",
      "  File \"/Users/zhihan/miniconda3/envs/mbqc/lib/python3.12/multiprocessing/resource_tracker.py\", line 111, in _stop_locked\n",
      "ChildProcessError: [Errno 10] No child processes\n",
      "Exception ignored in: <function ResourceTracker.__del__ at 0x104de6980>\n",
      "Traceback (most recent call last):\n",
      "  File \"/Users/zhihan/miniconda3/envs/mbqc/lib/python3.12/multiprocessing/resource_tracker.py\", line 77, in __del__\n",
      "  File \"/Users/zhihan/miniconda3/envs/mbqc/lib/python3.12/multiprocessing/resource_tracker.py\", line 86, in _stop\n",
      "  File \"/Users/zhihan/miniconda3/envs/mbqc/lib/python3.12/multiprocessing/resource_tracker.py\", line 111, in _stop_locked\n",
      "ChildProcessError: [Errno 10] No child processes\n",
      "Exception ignored in: <function ResourceTracker.__del__ at 0x102bd2980>\n",
      "Traceback (most recent call last):\n",
      "  File \"/Users/zhihan/miniconda3/envs/mbqc/lib/python3.12/multiprocessing/resource_tracker.py\", line 77, in __del__\n",
      "  File \"/Users/zhihan/miniconda3/envs/mbqc/lib/python3.12/multiprocessing/resource_tracker.py\", line 86, in _stop\n",
      "  File \"/Users/zhihan/miniconda3/envs/mbqc/lib/python3.12/multiprocessing/resource_tracker.py\", line 111, in _stop_locked\n",
      "ChildProcessError: [Errno 10] No child processes\n",
      "Exception ignored in: <function ResourceTracker.__del__ at 0x10362e980>\n",
      "Traceback (most recent call last):\n",
      "  File \"/Users/zhihan/miniconda3/envs/mbqc/lib/python3.12/multiprocessing/resource_tracker.py\", line 77, in __del__\n",
      "  File \"/Users/zhihan/miniconda3/envs/mbqc/lib/python3.12/multiprocessing/resource_tracker.py\", line 86, in _stop\n",
      "  File \"/Users/zhihan/miniconda3/envs/mbqc/lib/python3.12/multiprocessing/resource_tracker.py\", line 111, in _stop_locked\n",
      "ChildProcessError: [Errno 10] No child processes\n",
      "Exception ignored in: <function ResourceTracker.__del__ at 0x107b86980>\n",
      "Traceback (most recent call last):\n",
      "  File \"/Users/zhihan/miniconda3/envs/mbqc/lib/python3.12/multiprocessing/resource_tracker.py\", line 77, in __del__\n",
      "  File \"/Users/zhihan/miniconda3/envs/mbqc/lib/python3.12/multiprocessing/resource_tracker.py\", line 86, in _stop\n",
      "  File \"/Users/zhihan/miniconda3/envs/mbqc/lib/python3.12/multiprocessing/resource_tracker.py\", line 111, in _stop_locked\n",
      "ChildProcessError: [Errno 10] No child processes\n",
      "Exception ignored in: <function ResourceTracker.__del__ at 0x107706980>\n",
      "Traceback (most recent call last):\n",
      "  File \"/Users/zhihan/miniconda3/envs/mbqc/lib/python3.12/multiprocessing/resource_tracker.py\", line 77, in __del__\n",
      "  File \"/Users/zhihan/miniconda3/envs/mbqc/lib/python3.12/multiprocessing/resource_tracker.py\", line 86, in _stop\n",
      "  File \"/Users/zhihan/miniconda3/envs/mbqc/lib/python3.12/multiprocessing/resource_tracker.py\", line 111, in _stop_locked\n",
      "ChildProcessError: [Errno 10] No child processes\n"
     ]
    }
   ],
   "source": [
    "import matplotlib.pyplot as plt\n",
    "\n",
    "plt.rcParams.update({\n",
    "    \"text.usetex\": True,\n",
    "    'font.family': 'serif',\n",
    "    'font.serif': ['Computer Modern']    \n",
    "    })\n",
    "\n",
    "plt.plot(results[:, 0], results[:,0], \"o-\", label=\"y = x\")\n",
    "plt.plot(results[:, 0], (1 - results[:, 1]/results[:, 2]), \"o-\", label=\"Suppressing deletion rate\")\n",
    "plt.xlabel(r\"Probability of deletion $p$\")\n",
    "plt.ylabel(r\"Effective deletion ratio $p$\")\n",
    "plt.title(r\"With vs. without shifting, $(d_x, d_y, d_z)=(20, 20, 200)$\")\n",
    "plt.legend()\n",
    "plt.savefig(f\"data/effective_ratio.pdf\", dpi=300)\n"
   ]
  },
  {
   "cell_type": "code",
   "execution_count": null,
   "id": "2817ad7d",
   "metadata": {},
   "outputs": [],
   "source": []
  },
  {
   "cell_type": "code",
   "execution_count": null,
   "id": "5031bf84",
   "metadata": {},
   "outputs": [],
   "source": []
  }
 ],
 "metadata": {
  "kernelspec": {
   "display_name": "mbqc",
   "language": "python",
   "name": "python3"
  },
  "language_info": {
   "codemirror_mode": {
    "name": "ipython",
    "version": 3
   },
   "file_extension": ".py",
   "mimetype": "text/x-python",
   "name": "python",
   "nbconvert_exporter": "python",
   "pygments_lexer": "ipython3",
   "version": "3.12.10"
  }
 },
 "nbformat": 4,
 "nbformat_minor": 5
}
