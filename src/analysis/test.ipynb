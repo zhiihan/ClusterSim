{
 "cells": [
  {
   "cell_type": "code",
   "execution_count": null,
   "id": "6cfba12d",
   "metadata": {},
   "outputs": [
    {
     "name": "stdout",
     "output_type": "stream",
     "text": [
      "[[0, 0, 3], [3, 0, 3], [3, 0, 0], [0, 0, 0], [0, 3, 0], [0, 3, 3], [3, 3, 3], [2, 2, 2], [2, 1, 2], [2, 1, 1], [2, 2, 1], [1, 1, 2], [1, 2, 2], [1, 1, 1], [1, 2, 1], [3, 3, 0]]\n"
     ]
    }
   ],
   "source": [
    "from cluster_sim.app,utils import get_node_coords\n",
    "import numpy as np\n",
    "\n",
    "nums = [48, 51, 3, 0, 12, 60, 63, 42, 38, 22, 26, 37, 41, 21, 25, 15]\n",
    "\n",
    "print([get_node_coords(i, (4, 4, 4)) for i in nums])"
   ]
  },
  {
   "cell_type": "code",
   "execution_count": 45,
   "id": "82af68df",
   "metadata": {},
   "outputs": [
    {
     "name": "stdout",
     "output_type": "stream",
     "text": [
      "[1, 1, 1] Z;\n",
      "[2, 1, 1] Z;\n",
      "[1, 2, 1] Z;\n",
      "[2, 2, 1] Z;\n",
      "[1, 1, 2] Z;\n",
      "[2, 1, 2] Z;\n",
      "[1, 2, 2] Z;\n",
      "[2, 2, 2] Z;\n",
      "['21, Z;', '22, Z;', '25, Z;', '26, Z;', '37, Z;', '38, Z;', '41, Z;', '42, Z;']\n",
      "[0, 3, 12, 15, 21, 22, 25, 26, 37, 38, 41, 42, 48, 51, 60, 63]\n",
      "{0, 3, 37, 38, 41, 42, 12, 15, 48, 51, 21, 22, 25, 26, 60, 63}\n"
     ]
    }
   ],
   "source": [
    "def myrule(x, y, z):\n",
    "    # return x % 3 == 0 and y % 3 == 0 and z % 3 == 0\n",
    "    if x % 3 != 0 and y % 3 != 0 and z % 3 != 0:\n",
    "        return True\n",
    "    return False\n",
    "\n",
    "nums_that_match_myrule = []\n",
    "for i in range(4*4*4):\n",
    "    if myrule(*get_node_coords(i, (4, 4, 4))):\n",
    "        nums_that_match_myrule.append(f\"{i}, Z;\")\n",
    "        print(f\"{get_node_coords(i, (4, 4, 4))} Z;\")\n",
    "        \n",
    "\n",
    "print(nums_that_match_myrule)\n",
    "print(sorted(nums))\n",
    "\n",
    "print(set(nums) - set(nums_that_match_myrule))"
   ]
  },
  {
   "cell_type": "code",
   "execution_count": null,
   "id": "5abdaf61",
   "metadata": {},
   "outputs": [
    {
     "name": "stdout",
     "output_type": "stream",
     "text": [
      "0, Z;\n",
      "3, Z;\n",
      "12, Z;\n",
      "15, Z;\n",
      "48, Z;\n",
      "51, Z;\n",
      "60, Z;\n",
      "63, Z;\n"
     ]
    }
   ],
   "source": [
    "print(\"\\n\".join(nums_that_match_myrule),strip())"
   ]
  },
  {
   "cell_type": "code",
   "execution_count": 26,
   "id": "8da07177",
   "metadata": {},
   "outputs": [
    {
     "name": "stdout",
     "output_type": "stream",
     "text": [
      "[6]\n",
      "(array([1]), array([1]), array([0]))\n",
      "[10]\n",
      "(array([0]), array([2]), array([0]))\n",
      "[11]\n",
      "(array([1]), array([2]), array([0]))\n",
      "[13]\n",
      "(array([3]), array([2]), array([0]))\n",
      "[14]\n",
      "(array([4]), array([2]), array([0]))\n",
      "[19]\n",
      "(array([4]), array([3]), array([0]))\n",
      "[20]\n",
      "(array([0]), array([4]), array([0]))\n",
      "[22]\n",
      "(array([2]), array([4]), array([0]))\n",
      "[23]\n",
      "(array([3]), array([4]), array([0]))\n"
     ]
    }
   ],
   "source": [
    "import numpy as np\n",
    "from cluster_sim.app.utils import get_node_coords\n",
    "\n",
    "x = np.array([0, 0, 0, 0, 0, 0, 1, 0, 0, 0, 1, 1, 0, 1, 1, 0, 0, 0, 0, 1, 1, 0, 1, 1,\n",
    " 0, 0, 0])\n",
    "\n",
    "max_inds = np.argwhere(x == np.max(x))\n",
    "\n",
    "for i in max_inds:\n",
    "    print(i)\n",
    "    print(get_node_coords(i, (5, 5, 5)))\n"
   ]
  },
  {
   "cell_type": "code",
   "execution_count": 20,
   "id": "3a3c7735",
   "metadata": {},
   "outputs": [
    {
     "data": {
      "text/plain": [
       "(array([ 6, 10, 11, 13, 14, 19, 20, 22, 23]),)"
      ]
     },
     "execution_count": 20,
     "metadata": {},
     "output_type": "execute_result"
    }
   ],
   "source": [
    "max_inds"
   ]
  },
  {
   "cell_type": "code",
   "execution_count": null,
   "id": "dc3268f2",
   "metadata": {},
   "outputs": [],
   "source": [
    "shape = (4, 4, 4)\n",
    "\n",
    "scale_factor = 2\n",
    "\n",
    "\n",
    "\n",
    "\n"
   ]
  },
  {
   "cell_type": "code",
   "execution_count": 34,
   "id": "6dcb4d69",
   "metadata": {},
   "outputs": [],
   "source": [
    "import itertools"
   ]
  },
  {
   "cell_type": "code",
   "execution_count": 55,
   "id": "535f5df5",
   "metadata": {},
   "outputs": [],
   "source": [
    "def generate_unit_cell_coords(shape, scale_factor):\n",
    "    \"\"\"\n",
    "    Find the bottom left corner of each unit cell in a 3D grid.\n",
    "    \"\"\"\n",
    "\n",
    "    # Calculate the number of cubes in each dimension\n",
    "    num_cubes = np.array(shape) // (scale_factor + 1)\n",
    "    \n",
    "    unit_cell_locations = []\n",
    "    for i in itertools.product(range(num_cubes[0]), range(num_cubes[1]), range(num_cubes[2])):\n",
    "        unit_cell_locations.append(np.array(i) * (scale_factor + 1))\n",
    "\n",
    "    return unit_cell_locations\n",
    "\n"
   ]
  },
  {
   "cell_type": "code",
   "execution_count": 56,
   "id": "1f138ec2",
   "metadata": {},
   "outputs": [
    {
     "data": {
      "text/plain": [
       "[array([0, 0, 0]),\n",
       " array([0, 0, 3]),\n",
       " array([0, 3, 0]),\n",
       " array([0, 3, 3]),\n",
       " array([3, 0, 0]),\n",
       " array([3, 0, 3]),\n",
       " array([3, 3, 0]),\n",
       " array([3, 3, 3])]"
      ]
     },
     "execution_count": 56,
     "metadata": {},
     "output_type": "execute_result"
    }
   ],
   "source": [
    "generate_unit_cell_coords((7, 7, 7), 2)"
   ]
  },
  {
   "cell_type": "code",
   "execution_count": null,
   "id": "9294cea1",
   "metadata": {},
   "outputs": [],
   "source": []
  }
 ],
 "metadata": {
  "kernelspec": {
   "display_name": "mbqc",
   "language": "python",
   "name": "python3"
  },
  "language_info": {
   "codemirror_mode": {
    "name": "ipython",
    "version": 3
   },
   "file_extension": ".py",
   "mimetype": "text/x-python",
   "name": "python",
   "nbconvert_exporter": "python",
   "pygments_lexer": "ipython3",
   "version": "3.12.10"
  }
 },
 "nbformat": 4,
 "nbformat_minor": 5
}
