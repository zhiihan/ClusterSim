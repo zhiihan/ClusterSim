{
 "cells": [
  {
   "cell_type": "code",
   "execution_count": 10,
   "id": "6cfba12d",
   "metadata": {},
   "outputs": [
    {
     "name": "stdout",
     "output_type": "stream",
     "text": [
      "[[0, 0, 3], [3, 0, 3], [3, 0, 0], [0, 0, 0], [0, 3, 0], [0, 3, 3], [3, 3, 3], [2, 2, 2], [2, 1, 2], [2, 1, 1], [2, 2, 1], [1, 1, 2], [1, 2, 2], [1, 1, 1], [1, 2, 1], [3, 3, 0]]\n"
     ]
    }
   ],
   "source": [
    "from cluster_sim.app.utils import get_node_coords\n",
    "import numpy as np\n",
    "\n",
    "nums = [48, 51, 3, 0, 12, 60, 63, 42, 38, 22, 26, 37, 41, 21, 25, 15]\n",
    "\n",
    "print([get_node_coords(i, (4, 4, 4)) for i in nums])"
   ]
  },
  {
   "cell_type": "code",
   "execution_count": 45,
   "id": "82af68df",
   "metadata": {},
   "outputs": [
    {
     "name": "stdout",
     "output_type": "stream",
     "text": [
      "[1, 1, 1] Z;\n",
      "[2, 1, 1] Z;\n",
      "[1, 2, 1] Z;\n",
      "[2, 2, 1] Z;\n",
      "[1, 1, 2] Z;\n",
      "[2, 1, 2] Z;\n",
      "[1, 2, 2] Z;\n",
      "[2, 2, 2] Z;\n",
      "['21, Z;', '22, Z;', '25, Z;', '26, Z;', '37, Z;', '38, Z;', '41, Z;', '42, Z;']\n",
      "[0, 3, 12, 15, 21, 22, 25, 26, 37, 38, 41, 42, 48, 51, 60, 63]\n",
      "{0, 3, 37, 38, 41, 42, 12, 15, 48, 51, 21, 22, 25, 26, 60, 63}\n"
     ]
    }
   ],
   "source": [
    "def myrule(x, y, z):\n",
    "    # return x % 3 == 0 and y % 3 == 0 and z % 3 == 0\n",
    "    if x % 3 != 0 and y % 3 != 0 and z % 3 != 0:\n",
    "        return True\n",
    "    return False\n",
    "\n",
    "nums_that_match_myrule = []\n",
    "for i in range(4*4*4):\n",
    "    if myrule(*get_node_coords(i, (4, 4, 4))):\n",
    "        nums_that_match_myrule.append(f\"{i}, Z;\")\n",
    "        print(f\"{get_node_coords(i, (4, 4, 4))} Z;\")\n",
    "        \n",
    "\n",
    "print(nums_that_match_myrule)\n",
    "print(sorted(nums))\n",
    "\n",
    "print(set(nums) - set(nums_that_match_myrule))"
   ]
  },
  {
   "cell_type": "code",
   "execution_count": 43,
   "id": "5abdaf61",
   "metadata": {},
   "outputs": [
    {
     "name": "stdout",
     "output_type": "stream",
     "text": [
      "0, Z;\n",
      "3, Z;\n",
      "12, Z;\n",
      "15, Z;\n",
      "48, Z;\n",
      "51, Z;\n",
      "60, Z;\n",
      "63, Z;\n"
     ]
    }
   ],
   "source": [
    "print(\"\\n\".join(nums_that_match_myrule).strip())"
   ]
  },
  {
   "cell_type": "code",
   "execution_count": 49,
   "id": "8da07177",
   "metadata": {},
   "outputs": [
    {
     "data": {
      "text/plain": [
       "array([[0, 0, 0],\n",
       "       [0, 0, 1],\n",
       "       [0, 0, 2],\n",
       "       [0, 1, 0],\n",
       "       [0, 1, 1],\n",
       "       [0, 1, 2],\n",
       "       [0, 2, 0],\n",
       "       [0, 2, 1],\n",
       "       [0, 2, 2],\n",
       "       [1, 0, 0],\n",
       "       [1, 0, 1],\n",
       "       [1, 0, 2],\n",
       "       [1, 1, 0],\n",
       "       [1, 1, 1],\n",
       "       [1, 1, 2],\n",
       "       [1, 2, 0],\n",
       "       [1, 2, 1],\n",
       "       [1, 2, 2],\n",
       "       [2, 0, 0],\n",
       "       [2, 0, 1],\n",
       "       [2, 0, 2],\n",
       "       [2, 1, 0],\n",
       "       [2, 1, 1],\n",
       "       [2, 1, 2],\n",
       "       [2, 2, 0],\n",
       "       [2, 2, 1],\n",
       "       [2, 2, 2]])"
      ]
     },
     "execution_count": 49,
     "metadata": {},
     "output_type": "execute_result"
    }
   ],
   "source": [
    "import itertools\n",
    "\n",
    "C = []\n",
    "\n",
    "for xoffset, yoffset, zoffset in itertools.product(range(3), repeat=3):\n",
    "    C.append([xoffset, yoffset, zoffset])\n",
    "\n",
    "np.array(C)"
   ]
  },
  {
   "cell_type": "code",
   "execution_count": null,
   "id": "3a3c7735",
   "metadata": {},
   "outputs": [],
   "source": []
  }
 ],
 "metadata": {
  "kernelspec": {
   "display_name": "mbqc",
   "language": "python",
   "name": "python3"
  },
  "language_info": {
   "codemirror_mode": {
    "name": "ipython",
    "version": 3
   },
   "file_extension": ".py",
   "mimetype": "text/x-python",
   "name": "python",
   "nbconvert_exporter": "python",
   "pygments_lexer": "ipython3",
   "version": "3.12.10"
  }
 },
 "nbformat": 4,
 "nbformat_minor": 5
}
