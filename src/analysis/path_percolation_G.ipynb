{
 "cells": [
  {
   "cell_type": "code",
   "execution_count": null,
   "id": "0aea40d5-ede2-41f3-8039-5bdc16db4bf3",
   "metadata": {},
   "outputs": [],
   "source": [
    "import numpy as np\n",
    "from cluster_sim.app.grid import Grid\n",
    "from cluster_sim.app.utils import get_node_coords\n",
    "\n",
    "import os\n",
    "from joblib import delayed\n",
    "import time\n",
    "from analysis_funcs import algorithm1, apply_error_channel, ParallelTqdm\n",
    "import networkx as nx\n",
    "\n",
    "os.makedirs(\"./data\", exist_ok=True)\n",
    "\n",
    "shape = [20, 20, 200]\n",
    "seed = 12345\n",
    "\n",
    "samples = 1\n",
    "\n",
    "# The probabilities to simulate\n",
    "p_vec = np.linspace(0, 0.7, 20)\n",
    "\n",
    "# Input vector for all jobs\n",
    "jobs_input_vec = p_vec"
   ]
  },
  {
   "cell_type": "code",
   "execution_count": 44,
   "id": "2f552dd5-2eb5-44b3-b9d4-fd03623c14b1",
   "metadata": {},
   "outputs": [],
   "source": [
    "def main(input_params):\n",
    "    \"\"\"\n",
    "    Main function for parallel processing. Here, we:\n",
    "\n",
    "    1. Create a grid of the given shape\n",
    "    2. Apply the error channel to the grid\n",
    "    3. Generate a RHG lattice\n",
    "    4. Check for path percolation\n",
    "    5. Return the results\n",
    "\n",
    "    Returns:\n",
    "        - p: The input parameter for the simulation\n",
    "        - percolates: The number of times percolation occurred (True: 1, False: 0)\n",
    "        - times: The average time taken for the simulation\n",
    "    \"\"\"\n",
    "    \n",
    "    p = input_params\n",
    "\n",
    "    # Sanity check: check that this is equal to the move_list on the app\n",
    "    # print(np.reshape(np.argwhere(removed_nodes == True), shape=-1))\n",
    "    \n",
    "    percolates = 0\n",
    "    \n",
    "    times = np.zeros(samples)\n",
    "    diffs = np.zeros(samples)\n",
    "    for i in range(samples):\n",
    "        start = time.time()\n",
    "        G = Grid(shape)\n",
    "        removed_nodes = np.zeros(shape[0] * shape[1] * shape[2], dtype=bool)\n",
    "\n",
    "        G, D, removed_nodes = apply_error_channel(p, seed + i, shape, removed_nodes, G)\n",
    "\n",
    "        # Generate an RHG lattice out of G\n",
    "        G, removed_nodes, offsets = algorithm1(G, D, removed_nodes, shape)\n",
    "\n",
    "        xoffset, yoffset, _ = offsets\n",
    "\n",
    "        # Check if the largest cluster percolates\n",
    "        low = np.array([np.inf, np.inf, np.inf])\n",
    "        high = np.zeros(3)\n",
    "\n",
    "        gnx = G.to_networkx()\n",
    "\n",
    "        largest_cc = max(nx.connected_components(gnx), key=len)\n",
    "        largest_cc = gnx.subgraph(largest_cc).copy()\n",
    "\n",
    "        for node in largest_cc.nodes:\n",
    "            # Get the coordinates of the node\n",
    "\n",
    "            low = np.minimum(low, get_node_coords(node, shape))\n",
    "            high = np.maximum(high, get_node_coords(node, shape))\n",
    "        # print(diffs[i], low, high)\n",
    "        diffs[i] = high[2] - low[2] \n",
    "\n",
    "        #print(f\"high = {high}, low={low}, diff={diff}\")\n",
    "        if shape[2] - diffs[i] <= 3:\n",
    "            percolates += 1\n",
    "\n",
    "        times[i] = time.time() - start \n",
    "\n",
    "    return (p, percolates, diffs.mean(), times.mean())\n"
   ]
  },
  {
   "cell_type": "code",
   "execution_count": 45,
   "id": "5899f35c-0462-4bf3-8290-2cfa5f9ce800",
   "metadata": {},
   "outputs": [
    {
     "name": "stderr",
     "output_type": "stream",
     "text": [
      "100%|██████████| 20/20 [00:03<00:00,  5.25tasks/s]\n"
     ]
    }
   ],
   "source": [
    "results = ParallelTqdm(n_jobs=-1)([delayed(main)(x) for x in jobs_input_vec])\n",
    "results = np.array(results)\n"
   ]
  },
  {
   "cell_type": "code",
   "execution_count": 43,
   "id": "f102f41c-4884-4272-b123-151287716bfd",
   "metadata": {},
   "outputs": [
    {
     "name": "stdout",
     "output_type": "stream",
     "text": [
      "[[0.00000000e+00 1.00000000e+00 1.99000000e+02 1.67097020e+00]\n",
      " [3.68421053e-02 1.00000000e+00 1.99000000e+02 1.53863239e+00]\n",
      " [7.36842105e-02 1.00000000e+00 1.99000000e+02 1.46691585e+00]\n",
      " [1.10526316e-01 1.00000000e+00 1.99000000e+02 1.39153981e+00]\n",
      " [1.47368421e-01 1.00000000e+00 1.99000000e+02 1.40213108e+00]\n",
      " [1.84210526e-01 1.00000000e+00 1.99000000e+02 1.54915690e+00]\n",
      " [2.21052632e-01 1.00000000e+00 1.99000000e+02 1.51835299e+00]\n",
      " [2.57894737e-01 1.00000000e+00 1.99000000e+02 1.41477609e+00]\n",
      " [2.94736842e-01 1.00000000e+00 1.99000000e+02 1.34208584e+00]\n",
      " [3.31578947e-01 1.00000000e+00 1.99000000e+02 1.41106296e+00]\n",
      " [3.68421053e-01 1.00000000e+00 1.99000000e+02 1.37415075e+00]\n",
      " [4.05263158e-01 1.00000000e+00 1.99000000e+02 1.33031416e+00]\n",
      " [4.42105263e-01 1.00000000e+00 1.99000000e+02 1.24482584e+00]\n",
      " [4.78947368e-01 1.00000000e+00 1.99000000e+02 1.33745313e+00]\n",
      " [5.15789474e-01 1.00000000e+00 1.99000000e+02 1.29503989e+00]\n",
      " [5.52631579e-01 0.00000000e+00 1.11000000e+02 1.10675979e+00]\n",
      " [5.89473684e-01 0.00000000e+00 2.90000000e+01 8.27239990e-01]\n",
      " [6.26315789e-01 0.00000000e+00 1.80000000e+01 8.50738049e-01]\n",
      " [6.63157895e-01 0.00000000e+00 1.10000000e+01 8.15698147e-01]\n",
      " [7.00000000e-01 0.00000000e+00 7.00000000e+00 7.96596289e-01]]\n"
     ]
    },
    {
     "data": {
      "text/plain": [
       "<matplotlib.collections.PathCollection at 0x11e72e9c0>"
      ]
     },
     "execution_count": 43,
     "metadata": {},
     "output_type": "execute_result"
    },
    {
     "data": {
      "image/png": "[encoded data removed]",
      "text/plain": [
       "<Figure size 640x480 with 1 Axes>"
      ]
     },
     "metadata": {},
     "output_type": "display_data"
    }
   ],
   "source": [
    "import matplotlib.pyplot as plt\n",
    "\n",
    "results = np.array(results)\n",
    "print(results)\n",
    "plt.scatter(results[:, 0], results[:, 2])"
   ]
  },
  {
   "cell_type": "code",
   "execution_count": null,
   "id": "6c562da7-eec4-400e-86e4-353c14f4a6fb",
   "metadata": {},
   "outputs": [],
   "source": []
  }
 ],
 "metadata": {
  "kernelspec": {
   "display_name": "mbqc",
   "language": "python",
   "name": "python3"
  },
  "language_info": {
   "codemirror_mode": {
    "name": "ipython",
    "version": 3
   },
   "file_extension": ".py",
   "mimetype": "text/x-python",
   "name": "python",
   "nbconvert_exporter": "python",
   "pygments_lexer": "ipython3",
   "version": "3.12.10"
  }
 },
 "nbformat": 4,
 "nbformat_minor": 5
}
