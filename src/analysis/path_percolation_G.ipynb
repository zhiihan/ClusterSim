{
 "cells": [
  {
   "cell_type": "code",
   "execution_count": 1,
   "id": "0aea40d5-ede2-41f3-8039-5bdc16db4bf3",
   "metadata": {},
   "outputs": [],
   "source": [
    "import numpy as np\n",
    "from cluster_sim.app.grid import Grid\n",
    "from cluster_sim.app.utils import get_node_coords\n",
    "\n",
    "import os\n",
    "from joblib import delayed\n",
    "import time\n",
    "from analysis_funcs import algorithm1, apply_error_channel, ParallelTqdm\n",
    "import networkx as nx\n",
    "\n",
    "os.makedirs(\"./data\", exist_ok=True)\n",
    "\n",
    "shape = [20, 20, 200]\n",
    "seed = 12345\n",
    "\n",
    "samples = 1\n",
    "\n",
    "# The probabilities to simulate\n",
    "p_vec = np.linspace(0, 0.7, 20)\n",
    "\n",
    "# Input vector for all jobs\n",
    "jobs_input_vec = p_vec"
   ]
  },
  {
   "cell_type": "code",
   "execution_count": 2,
   "id": "2f552dd5-2eb5-44b3-b9d4-fd03623c14b1",
   "metadata": {},
   "outputs": [],
   "source": [
    "def main(input_params):\n",
    "    \"\"\"\n",
    "    Main function for parallel processing. Here, we:\n",
    "\n",
    "    1. Create a grid of the given shape\n",
    "    2. Apply the error channel to the grid\n",
    "    3. Generate a RHG lattice\n",
    "    4. Check for path percolation\n",
    "    5. Return the results\n",
    "\n",
    "    Returns:\n",
    "        - p: The input parameter for the simulation\n",
    "        - percolates: The number of times percolation occurred (True: 1, False: 0)\n",
    "        - times: The average time taken for the simulation\n",
    "    \"\"\"\n",
    "    \n",
    "    p = input_params\n",
    "\n",
    "    # Sanity check: check that this is equal to the move_list on the app\n",
    "    # print(np.reshape(np.argwhere(removed_nodes == True), shape=-1))\n",
    "    \n",
    "    percolates = 0\n",
    "    \n",
    "    times = np.zeros(samples)\n",
    "    diffs = np.zeros(samples)\n",
    "    for i in range(samples):\n",
    "        start = time.time()\n",
    "        G = Grid(shape)\n",
    "        removed_nodes = np.zeros(shape[0] * shape[1] * shape[2], dtype=bool)\n",
    "\n",
    "        G, D, removed_nodes = apply_error_channel(p, seed + i, shape, removed_nodes, G)\n",
    "\n",
    "        # Generate an RHG lattice out of G\n",
    "        G, removed_nodes, offsets = algorithm1(G, D, removed_nodes, shape)\n",
    "\n",
    "        xoffset, yoffset, _ = offsets\n",
    "\n",
    "        # Check if the largest cluster percolates\n",
    "        low = np.array([np.inf, np.inf, np.inf])\n",
    "        high = np.zeros(3)\n",
    "\n",
    "        gnx = G.to_networkx()\n",
    "\n",
    "        largest_cc = max(nx.connected_components(gnx), key=len)\n",
    "        largest_cc = gnx.subgraph(largest_cc).copy()\n",
    "\n",
    "        for node in largest_cc.nodes:\n",
    "            # Get the coordinates of the node\n",
    "\n",
    "            low = np.minimum(low, get_node_coords(node, shape))\n",
    "            high = np.maximum(high, get_node_coords(node, shape))\n",
    "        # print(diffs[i], low, high)\n",
    "        diffs[i] = high[2] - low[2] \n",
    "\n",
    "        #print(f\"high = {high}, low={low}, diff={diff}\")\n",
    "        if shape[2] - diffs[i] <= 3:\n",
    "            percolates += 1\n",
    "\n",
    "        times[i] = time.time() - start \n",
    "\n",
    "    return (p, percolates, diffs.mean(), times.mean())\n"
   ]
  },
  {
   "cell_type": "code",
   "execution_count": 3,
   "id": "5899f35c-0462-4bf3-8290-2cfa5f9ce800",
   "metadata": {},
   "outputs": [
    {
     "name": "stderr",
     "output_type": "stream",
     "text": [
      "100%|██████████| 20/20 [00:05<00:00,  3.67tasks/s]\n"
     ]
    }
   ],
   "source": [
    "results = ParallelTqdm(n_jobs=-1)([delayed(main)(x) for x in jobs_input_vec])\n",
    "results = np.array(results)\n"
   ]
  },
  {
   "cell_type": "code",
   "execution_count": 4,
   "id": "f102f41c-4884-4272-b123-151287716bfd",
   "metadata": {},
   "outputs": [
    {
     "data": {
      "image/png": "[encoded data removed]",
      "text/plain": [
       "<Figure size 640x480 with 1 Axes>"
      ]
     },
     "metadata": {},
     "output_type": "display_data"
    },
    {
     "name": "stderr",
     "output_type": "stream",
     "text": [
      "Exception ignored in: <function ResourceTracker.__del__ at 0x10587a980>\n",
      "Traceback (most recent call last):\n",
      "  File \"/Users/zhihan/miniconda3/envs/mbqc/lib/python3.12/multiprocessing/resource_tracker.py\", line 77, in __del__\n",
      "  File \"/Users/zhihan/miniconda3/envs/mbqc/lib/python3.12/multiprocessing/resource_tracker.py\", line 86, in _stop\n",
      "  File \"/Users/zhihan/miniconda3/envs/mbqc/lib/python3.12/multiprocessing/resource_tracker.py\", line 111, in _stop_locked\n",
      "ChildProcessError: [Errno 10] No child processes\n",
      "Exception ignored in: <function ResourceTracker.__del__ at 0x10637a980>\n",
      "Traceback (most recent call last):\n",
      "  File \"/Users/zhihan/miniconda3/envs/mbqc/lib/python3.12/multiprocessing/resource_tracker.py\", line 77, in __del__\n",
      "  File \"/Users/zhihan/miniconda3/envs/mbqc/lib/python3.12/multiprocessing/resource_tracker.py\", line 86, in _stop\n",
      "  File \"/Users/zhihan/miniconda3/envs/mbqc/lib/python3.12/multiprocessing/resource_tracker.py\", line 111, in _stop_locked\n",
      "ChildProcessError: [Errno 10] No child processes\n",
      "Exception ignored in: <function ResourceTracker.__del__ at 0x102cce980>\n",
      "Traceback (most recent call last):\n",
      "  File \"/Users/zhihan/miniconda3/envs/mbqc/lib/python3.12/multiprocessing/resource_tracker.py\", line 77, in __del__\n",
      "  File \"/Users/zhihan/miniconda3/envs/mbqc/lib/python3.12/multiprocessing/resource_tracker.py\", line 86, in _stop\n",
      "  File \"/Users/zhihan/miniconda3/envs/mbqc/lib/python3.12/multiprocessing/resource_tracker.py\", line 111, in _stop_locked\n",
      "ChildProcessError: [Errno 10] No child processes\n",
      "Exception ignored in: <function ResourceTracker.__del__ at 0x101f46980>\n",
      "Traceback (most recent call last):\n",
      "  File \"/Users/zhihan/miniconda3/envs/mbqc/lib/python3.12/multiprocessing/resource_tracker.py\", line 77, in __del__\n",
      "  File \"/Users/zhihan/miniconda3/envs/mbqc/lib/python3.12/multiprocessing/resource_tracker.py\", line 86, in _stop\n",
      "  File \"/Users/zhihan/miniconda3/envs/mbqc/lib/python3.12/multiprocessing/resource_tracker.py\", line 111, in _stop_locked\n",
      "ChildProcessError: [Errno 10] No child processes\n",
      "Exception ignored in: <function ResourceTracker.__del__ at 0x105f76980>\n",
      "Traceback (most recent call last):\n",
      "  File \"/Users/zhihan/miniconda3/envs/mbqc/lib/python3.12/multiprocessing/resource_tracker.py\", line 77, in __del__\n",
      "  File \"/Users/zhihan/miniconda3/envs/mbqc/lib/python3.12/multiprocessing/resource_tracker.py\", line 86, in _stop\n",
      "  File \"/Users/zhihan/miniconda3/envs/mbqc/lib/python3.12/multiprocessing/resource_tracker.py\", line 111, in _stop_locked\n",
      "ChildProcessError: [Errno 10] No child processes\n",
      "Exception ignored in: <function ResourceTracker.__del__ at 0x103836980>\n",
      "Traceback (most recent call last):\n",
      "  File \"/Users/zhihan/miniconda3/envs/mbqc/lib/python3.12/multiprocessing/resource_tracker.py\", line 77, in __del__\n",
      "  File \"/Users/zhihan/miniconda3/envs/mbqc/lib/python3.12/multiprocessing/resource_tracker.py\", line 86, in _stop\n",
      "  File \"/Users/zhihan/miniconda3/envs/mbqc/lib/python3.12/multiprocessing/resource_tracker.py\", line 111, in _stop_locked\n",
      "ChildProcessError: [Errno 10] No child processes\n",
      "Exception ignored in: <function ResourceTracker.__del__ at 0x10487a980>\n",
      "Traceback (most recent call last):\n",
      "  File \"/Users/zhihan/miniconda3/envs/mbqc/lib/python3.12/multiprocessing/resource_tracker.py\", line 77, in __del__\n",
      "  File \"/Users/zhihan/miniconda3/envs/mbqc/lib/python3.12/multiprocessing/resource_tracker.py\", line 86, in _stop\n",
      "  File \"/Users/zhihan/miniconda3/envs/mbqc/lib/python3.12/multiprocessing/resource_tracker.py\", line 111, in _stop_locked\n",
      "ChildProcessError: [Errno 10] No child processes\n",
      "Exception ignored in: <function ResourceTracker.__del__ at 0x105806980>\n",
      "Traceback (most recent call last):\n",
      "  File \"/Users/zhihan/miniconda3/envs/mbqc/lib/python3.12/multiprocessing/resource_tracker.py\", line 77, in __del__\n",
      "  File \"/Users/zhihan/miniconda3/envs/mbqc/lib/python3.12/multiprocessing/resource_tracker.py\", line 86, in _stop\n",
      "  File \"/Users/zhihan/miniconda3/envs/mbqc/lib/python3.12/multiprocessing/resource_tracker.py\", line 111, in _stop_locked\n",
      "ChildProcessError: [Errno 10] No child processes\n"
     ]
    }
   ],
   "source": [
    "import matplotlib.pyplot as plt\n",
    "\n",
    "plt.rcParams.update({\n",
    "    \"text.usetex\": True,\n",
    "    'font.family': 'serif',\n",
    "    'font.serif': ['Computer Modern']    \n",
    "    })\n",
    "\n",
    "plt.plot(results[:, 0], results[:, 2])\n",
    "plt.xlabel(r\"Probability of deletion $p$\")\n",
    "plt.ylabel(r\"Percolation distance $\\Delta z$\")\n",
    "plt.title(r\"Path percolation on the RHG Lattice, $(d_x, d_y, d_z)=(20, 20, 200)$\")\n",
    "plt.savefig(f\"data/path_percolation_rhg{samples}.pdf\", dpi=300)"
   ]
  },
  {
   "cell_type": "code",
   "execution_count": null,
   "id": "6c562da7-eec4-400e-86e4-353c14f4a6fb",
   "metadata": {},
   "outputs": [],
   "source": []
  }
 ],
 "metadata": {
  "kernelspec": {
   "display_name": "mbqc",
   "language": "python",
   "name": "python3"
  },
  "language_info": {
   "codemirror_mode": {
    "name": "ipython",
    "version": 3
   },
   "file_extension": ".py",
   "mimetype": "text/x-python",
   "name": "python",
   "nbconvert_exporter": "python",
   "pygments_lexer": "ipython3",
   "version": "3.12.10"
  }
 },
 "nbformat": 4,
 "nbformat_minor": 5
}
