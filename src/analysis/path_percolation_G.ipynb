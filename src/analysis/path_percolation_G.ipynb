{
 "cells": [
  {
   "cell_type": "code",
   "execution_count": 28,
   "id": "0aea40d5-ede2-41f3-8039-5bdc16db4bf3",
   "metadata": {},
   "outputs": [],
   "source": [
    "import numpy as np\n",
    "from cluster_sim.app.holes import Holes\n",
    "from cluster_sim.app.grid import Grid\n",
    "from cluster_sim.app.utils import get_node_coords\n",
    "\n",
    "import os\n",
    "from joblib import delayed, Parallel\n",
    "import time\n",
    "from analysis_funcs import algorithm1, path_percolation, apply_error_channel\n",
    "\n",
    "os.makedirs(\"./data\", exist_ok=True)\n",
    "\n",
    "shape = [20, 20, 200]\n",
    "seed = 12345\n",
    "\n",
    "samples = 100\n",
    "\n",
    "# The probabilities to simulate\n",
    "p_vec = np.linspace(0, 0.5, 50)\n",
    "\n",
    "# Input vector for all jobs\n",
    "jobs_input_vec = p_vec"
   ]
  },
  {
   "cell_type": "code",
   "execution_count": null,
   "id": "2f552dd5-2eb5-44b3-b9d4-fd03623c14b1",
   "metadata": {},
   "outputs": [],
   "source": [
    "def main(input_params):\n",
    "    \"\"\"\n",
    "    Main function for parallel processing. Here, we:\n",
    "\n",
    "    1. Create a grid of the given shape\n",
    "    2. Apply the error channel to the grid\n",
    "    3. Generate a RHG lattice\n",
    "    4. Check for path percolation\n",
    "    5. Return the results\n",
    "\n",
    "    Returns:\n",
    "        - p: The input parameter for the simulation\n",
    "        - percolates: The number of times percolation occurred (True: 1, False: 0)\n",
    "        - times: The average time taken for the simulation\n",
    "    \"\"\"\n",
    "    \n",
    "    p = input_params\n",
    "\n",
    "    # Sanity check: check that this is equal to the move_list on the app\n",
    "    # print(np.reshape(np.argwhere(removed_nodes == True), shape=-1))\n",
    "    \n",
    "    percolates = 0\n",
    "    \n",
    "    times = np.zeros(samples)\n",
    "    for i in range(samples):\n",
    "        start = time.time()\n",
    "        G = Grid(shape)\n",
    "        removed_nodes = np.zeros(shape[0] * shape[1] * shape[2], dtype=bool)\n",
    "\n",
    "        G, D, removed_nodes = apply_error_channel(p, seed + i, shape, removed_nodes, G)\n",
    "\n",
    "        # Generate an RHG lattice out of G\n",
    "        G, removed_nodes, offsets = algorithm1(G, D, removed_nodes, shape)\n",
    "\n",
    "        xoffset, yoffset, _ = offsets\n",
    "\n",
    "        # Check for path percolation\n",
    "        percolates += path_percolation(G, removed_nodes, shape, xoffset, yoffset)    \n",
    "        end = time.time() - start \n",
    "        times[i] = end\n",
    "\n",
    "    return (p, percolates, times.mean())\n"
   ]
  },
  {
   "cell_type": "code",
   "execution_count": 30,
   "id": "5899f35c-0462-4bf3-8290-2cfa5f9ce800",
   "metadata": {},
   "outputs": [
    {
     "data": {
      "text/plain": [
       "[(np.float64(0.0), 100, np.float64(1.3339833879470826)),\n",
       " (np.float64(0.01020408163265306), 99, np.float64(1.3201413679122924)),\n",
       " (np.float64(0.02040816326530612), 98, np.float64(1.325401282310486)),\n",
       " (np.float64(0.030612244897959183), 98, np.float64(1.3297629165649414)),\n",
       " (np.float64(0.04081632653061224), 94, np.float64(1.3172252511978149)),\n",
       " (np.float64(0.0510204081632653), 96, np.float64(1.338051474094391)),\n",
       " (np.float64(0.061224489795918366), 98, np.float64(1.3386961483955384)),\n",
       " (np.float64(0.07142857142857142), 94, np.float64(1.3486984825134278)),\n",
       " (np.float64(0.08163265306122448), 94, np.float64(1.2604304718971253)),\n",
       " (np.float64(0.09183673469387754), 92, np.float64(1.3073868131637574)),\n",
       " (np.float64(0.1020408163265306), 95, np.float64(1.3084971356391906)),\n",
       " (np.float64(0.11224489795918366), 92, np.float64(1.3039892554283141)),\n",
       " (np.float64(0.12244897959183673), 93, np.float64(1.3496995544433594)),\n",
       " (np.float64(0.13265306122448978), 94, np.float64(1.3657903337478638)),\n",
       " (np.float64(0.14285714285714285), 90, np.float64(1.3664375042915344)),\n",
       " (np.float64(0.1530612244897959), 86, np.float64(1.3101628232002258)),\n",
       " (np.float64(0.16326530612244897), 84, np.float64(1.3075059270858764)),\n",
       " (np.float64(0.17346938775510204), 83, np.float64(1.2459596109390259)),\n",
       " (np.float64(0.18367346938775508), 74, np.float64(1.2713548731803894)),\n",
       " (np.float64(0.19387755102040816), 75, np.float64(1.2635850167274476)),\n",
       " (np.float64(0.2040816326530612), 77, np.float64(1.2380815291404723)),\n",
       " (np.float64(0.21428571428571427), 76, np.float64(1.2357245230674743)),\n",
       " (np.float64(0.22448979591836732), 76, np.float64(1.2046966218948365)),\n",
       " (np.float64(0.2346938775510204), 76, np.float64(1.2250509881973266)),\n",
       " (np.float64(0.24489795918367346), 77, np.float64(1.3331149768829347)),\n",
       " (np.float64(0.25510204081632654), 67, np.float64(1.340543270111084)),\n",
       " (np.float64(0.26530612244897955), 80, np.float64(1.3395802903175353)),\n",
       " (np.float64(0.2755102040816326), 63, np.float64(1.327691798210144)),\n",
       " (np.float64(0.2857142857142857), 78, np.float64(1.3507357239723206)),\n",
       " (np.float64(0.29591836734693877), 63, np.float64(1.3232954931259155)),\n",
       " (np.float64(0.3061224489795918), 62, np.float64(1.327307677268982)),\n",
       " (np.float64(0.31632653061224486), 69, np.float64(1.3241437673568726)),\n",
       " (np.float64(0.32653061224489793), 60, np.float64(1.188256275653839)),\n",
       " (np.float64(0.336734693877551), 63, np.float64(1.2010306668281556)),\n",
       " (np.float64(0.3469387755102041), 56, np.float64(1.1989170145988464)),\n",
       " (np.float64(0.3571428571428571), 59, np.float64(1.208954086303711)),\n",
       " (np.float64(0.36734693877551017), 47, np.float64(1.1841405415534973)),\n",
       " (np.float64(0.37755102040816324), 44, np.float64(1.2245067501068114)),\n",
       " (np.float64(0.3877551020408163), 45, np.float64(1.2020885705947877)),\n",
       " (np.float64(0.39795918367346933), 51, np.float64(1.217858452796936)),\n",
       " (np.float64(0.4081632653061224), 44, np.float64(1.2307766056060792)),\n",
       " (np.float64(0.4183673469387755), 42, np.float64(1.231851842403412)),\n",
       " (np.float64(0.42857142857142855), 41, np.float64(1.2544532132148742)),\n",
       " (np.float64(0.4387755102040816), 35, np.float64(1.2332756876945496)),\n",
       " (np.float64(0.44897959183673464), 29, np.float64(1.2472906303405762)),\n",
       " (np.float64(0.4591836734693877), 33, np.float64(1.2448252773284911)),\n",
       " (np.float64(0.4693877551020408), 30, np.float64(1.2237672591209412)),\n",
       " (np.float64(0.47959183673469385), 29, np.float64(1.2193406653404235)),\n",
       " (np.float64(0.4897959183673469), 19, np.float64(0.8364292001724243)),\n",
       " (np.float64(0.5), 16, np.float64(0.832413821220398))]"
      ]
     },
     "execution_count": 30,
     "metadata": {},
     "output_type": "execute_result"
    }
   ],
   "source": [
    "results = Parallel(n_jobs=-1, verbose=10)(delayed(main)(x) for x in jobs_input_vec)\n",
    "results"
   ]
  },
  {
   "cell_type": "code",
   "execution_count": 32,
   "id": "f102f41c-4884-4272-b123-151287716bfd",
   "metadata": {},
   "outputs": [
    {
     "name": "stdout",
     "output_type": "stream",
     "text": [
      "[[0.00000000e+00 1.00000000e+02 1.33398339e+00]\n",
      " [1.02040816e-02 9.90000000e+01 1.32014137e+00]\n",
      " [2.04081633e-02 9.80000000e+01 1.32540128e+00]\n",
      " [3.06122449e-02 9.80000000e+01 1.32976292e+00]\n",
      " [4.08163265e-02 9.40000000e+01 1.31722525e+00]\n",
      " [5.10204082e-02 9.60000000e+01 1.33805147e+00]\n",
      " [6.12244898e-02 9.80000000e+01 1.33869615e+00]\n",
      " [7.14285714e-02 9.40000000e+01 1.34869848e+00]\n",
      " [8.16326531e-02 9.40000000e+01 1.26043047e+00]\n",
      " [9.18367347e-02 9.20000000e+01 1.30738681e+00]\n",
      " [1.02040816e-01 9.50000000e+01 1.30849714e+00]\n",
      " [1.12244898e-01 9.20000000e+01 1.30398926e+00]\n",
      " [1.22448980e-01 9.30000000e+01 1.34969955e+00]\n",
      " [1.32653061e-01 9.40000000e+01 1.36579033e+00]\n",
      " [1.42857143e-01 9.00000000e+01 1.36643750e+00]\n",
      " [1.53061224e-01 8.60000000e+01 1.31016282e+00]\n",
      " [1.63265306e-01 8.40000000e+01 1.30750593e+00]\n",
      " [1.73469388e-01 8.30000000e+01 1.24595961e+00]\n",
      " [1.83673469e-01 7.40000000e+01 1.27135487e+00]\n",
      " [1.93877551e-01 7.50000000e+01 1.26358502e+00]\n",
      " [2.04081633e-01 7.70000000e+01 1.23808153e+00]\n",
      " [2.14285714e-01 7.60000000e+01 1.23572452e+00]\n",
      " [2.24489796e-01 7.60000000e+01 1.20469662e+00]\n",
      " [2.34693878e-01 7.60000000e+01 1.22505099e+00]\n",
      " [2.44897959e-01 7.70000000e+01 1.33311498e+00]\n",
      " [2.55102041e-01 6.70000000e+01 1.34054327e+00]\n",
      " [2.65306122e-01 8.00000000e+01 1.33958029e+00]\n",
      " [2.75510204e-01 6.30000000e+01 1.32769180e+00]\n",
      " [2.85714286e-01 7.80000000e+01 1.35073572e+00]\n",
      " [2.95918367e-01 6.30000000e+01 1.32329549e+00]\n",
      " [3.06122449e-01 6.20000000e+01 1.32730768e+00]\n",
      " [3.16326531e-01 6.90000000e+01 1.32414377e+00]\n",
      " [3.26530612e-01 6.00000000e+01 1.18825628e+00]\n",
      " [3.36734694e-01 6.30000000e+01 1.20103067e+00]\n",
      " [3.46938776e-01 5.60000000e+01 1.19891701e+00]\n",
      " [3.57142857e-01 5.90000000e+01 1.20895409e+00]\n",
      " [3.67346939e-01 4.70000000e+01 1.18414054e+00]\n",
      " [3.77551020e-01 4.40000000e+01 1.22450675e+00]\n",
      " [3.87755102e-01 4.50000000e+01 1.20208857e+00]\n",
      " [3.97959184e-01 5.10000000e+01 1.21785845e+00]\n",
      " [4.08163265e-01 4.40000000e+01 1.23077661e+00]\n",
      " [4.18367347e-01 4.20000000e+01 1.23185184e+00]\n",
      " [4.28571429e-01 4.10000000e+01 1.25445321e+00]\n",
      " [4.38775510e-01 3.50000000e+01 1.23327569e+00]\n",
      " [4.48979592e-01 2.90000000e+01 1.24729063e+00]\n",
      " [4.59183673e-01 3.30000000e+01 1.24482528e+00]\n",
      " [4.69387755e-01 3.00000000e+01 1.22376726e+00]\n",
      " [4.79591837e-01 2.90000000e+01 1.21934067e+00]\n",
      " [4.89795918e-01 1.90000000e+01 8.36429200e-01]\n",
      " [5.00000000e-01 1.60000000e+01 8.32413821e-01]]\n"
     ]
    },
    {
     "data": {
      "text/plain": [
       "<matplotlib.collections.PathCollection at 0x11735b0b0>"
      ]
     },
     "execution_count": 32,
     "metadata": {},
     "output_type": "execute_result"
    },
    {
     "data": {
      "image/png": "[encoded data removed]",
      "text/plain": [
       "<Figure size 640x480 with 1 Axes>"
      ]
     },
     "metadata": {},
     "output_type": "display_data"
    }
   ],
   "source": [
    "import matplotlib.pyplot as plt\n",
    "\n",
    "results = np.array(results)\n",
    "print(results)\n",
    "plt.scatter(results[:, 0], results[:, 1])"
   ]
  },
  {
   "cell_type": "code",
   "execution_count": null,
   "id": "6c562da7-eec4-400e-86e4-353c14f4a6fb",
   "metadata": {},
   "outputs": [],
   "source": []
  }
 ],
 "metadata": {
  "kernelspec": {
   "display_name": "mbqc",
   "language": "python",
   "name": "python3"
  },
  "language_info": {
   "codemirror_mode": {
    "name": "ipython",
    "version": 3
   },
   "file_extension": ".py",
   "mimetype": "text/x-python",
   "name": "python",
   "nbconvert_exporter": "python",
   "pygments_lexer": "ipython3",
   "version": "3.12.10"
  }
 },
 "nbformat": 4,
 "nbformat_minor": 5
}
