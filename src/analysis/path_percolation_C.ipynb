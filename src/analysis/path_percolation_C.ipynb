{
 "cells": [
  {
   "cell_type": "code",
   "execution_count": 4,
   "id": "49fb2e1f",
   "metadata": {},
   "outputs": [],
   "source": [
    "import numpy as np\n",
    "from cluster_sim.app.holes import Holes\n",
    "from cluster_sim.app.grid import Grid\n",
    "from cluster_sim.app.utils import get_node_coords\n",
    "\n",
    "import os\n",
    "from joblib import delayed\n",
    "import time\n",
    "from analysis_funcs import algorithm1, path_percolation, apply_error_channel, ParallelTqdm\n",
    "\n",
    "os.makedirs(\"./data\", exist_ok=True)\n",
    "\n",
    "shape = [10, 10, 100]\n",
    "seed = 12345\n",
    "\n",
    "samples = 1\n",
    "\n",
    "# The probabilities to simulate\n",
    "p_vec = np.linspace(0, 0.3, 10)\n",
    "\n",
    "# Input vector for all jobs\n",
    "jobs_input_vec = p_vec"
   ]
  },
  {
   "cell_type": "code",
   "execution_count": 30,
   "id": "8f6c63a5",
   "metadata": {},
   "outputs": [],
   "source": [
    "def main(input_params):\n",
    "    \"\"\"\n",
    "    Main function for parallel processing. Here, we:\n",
    "\n",
    "    1. Create a grid of the given shape\n",
    "    2. Apply the error channel to the grid\n",
    "    3. Generate a RHG lattice\n",
    "    4. Look at clusters of the RHG lattice\n",
    "    5. Return the results\n",
    "\n",
    "    Returns:\n",
    "        - p: The input parameter for the simulation\n",
    "        - percolates: The number of times percolation occurred (True: 1, False: 0)\n",
    "        - times: The average time taken for the simulation\n",
    "    \"\"\"\n",
    "    \n",
    "    p = input_params\n",
    "\n",
    "    # Sanity check: check that this is equal to the move_list on the app\n",
    "    # print(np.reshape(np.argwhere(removed_nodes == True), shape=-1))\n",
    "    \n",
    "    percolates = 0\n",
    "    \n",
    "    times = np.zeros(samples)\n",
    "    for i in range(samples):\n",
    "        start = time.time()\n",
    "        G = Grid(shape)\n",
    "        removed_nodes = np.zeros(shape[0] * shape[1] * shape[2], dtype=bool)\n",
    "\n",
    "        G, D, removed_nodes = apply_error_channel(p, seed + i, shape, removed_nodes, G)\n",
    "\n",
    "        # Generate an RHG lattice out of G\n",
    "        G, removed_nodes, offsets = algorithm1(G, D, removed_nodes, shape)\n",
    "\n",
    "        xoffset, yoffset, zoffset = offsets\n",
    "\n",
    "        cubes, _ = D.find_lattice(removed_nodes, xoffset, yoffset, zoffset)\n",
    "\n",
    "        C = D.build_centers_graph(cubes)\n",
    "        connected_cubes = D.find_connected_lattice(C)\n",
    "\n",
    "        connected_cubes.sort(key=lambda x: len(x.nodes), reverse=True)\n",
    "\n",
    "        for c in connected_cubes:\n",
    "            print(c)\n",
    "\n",
    "        #X = D.connected_cube_to_nodes(connected_cubes[0])\n",
    "\n",
    "        end = time.time() - start \n",
    "\n",
    "        times[i] = end\n",
    "\n",
    "    return (p, percolates, times.mean())\n"
   ]
  },
  {
   "cell_type": "code",
   "execution_count": 31,
   "id": "a29c2fbb",
   "metadata": {},
   "outputs": [
    {
     "name": "stdout",
     "output_type": "stream",
     "text": [
      "Graph with 634 nodes and 1838 edges\n",
      "Graph with 1 nodes and 0 edges\n",
      "Graph with 1 nodes and 0 edges\n",
      "Graph with 1 nodes and 0 edges\n",
      "Graph with 1 nodes and 0 edges\n"
     ]
    },
    {
     "data": {
      "text/plain": [
       "(0.05, 0, np.float64(0.2089390754699707))"
      ]
     },
     "execution_count": 31,
     "metadata": {},
     "output_type": "execute_result"
    }
   ],
   "source": [
    "main(0.05)"
   ]
  },
  {
   "cell_type": "code",
   "execution_count": null,
   "id": "1763c797",
   "metadata": {},
   "outputs": [],
   "source": []
  }
 ],
 "metadata": {
  "kernelspec": {
   "display_name": "mbqc",
   "language": "python",
   "name": "python3"
  },
  "language_info": {
   "codemirror_mode": {
    "name": "ipython",
    "version": 3
   },
   "file_extension": ".py",
   "mimetype": "text/x-python",
   "name": "python",
   "nbconvert_exporter": "python",
   "pygments_lexer": "ipython3",
   "version": "3.12.10"
  }
 },
 "nbformat": 4,
 "nbformat_minor": 5
}
