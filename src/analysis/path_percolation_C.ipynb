{
 "cells": [
  {
   "cell_type": "code",
   "execution_count": 34,
   "id": "49fb2e1f",
   "metadata": {},
   "outputs": [],
   "source": [
    "import numpy as np\n",
    "from cluster_sim.app.holes import Holes\n",
    "from cluster_sim.app.grid import Grid\n",
    "from cluster_sim.app.utils import get_node_coords\n",
    "\n",
    "import os\n",
    "from joblib import delayed, Parallel\n",
    "import time\n",
    "from analysis_funcs import algorithm1, path_percolation, apply_error_channel, ParallelTqdm\n",
    "import networkx as nx\n",
    "\n",
    "os.makedirs(\"./data\", exist_ok=True)\n",
    "\n",
    "shape = [20, 20, 200]\n",
    "seed = 12345\n",
    "\n",
    "samples = 1\n",
    "\n",
    "# The probabilities to simulate\n",
    "p_vec = np.linspace(0, 0.3, 20)\n",
    "\n",
    "# Input vector for all jobs\n",
    "jobs_input_vec = p_vec"
   ]
  },
  {
   "cell_type": "code",
   "execution_count": null,
   "id": "8f6c63a5",
   "metadata": {},
   "outputs": [],
   "source": [
    "def main(input_params):\n",
    "    \"\"\"\n",
    "    Main function for parallel processing. Here, we:\n",
    "\n",
    "    1. Create a grid of the given shape\n",
    "    2. Apply the error channel to the grid\n",
    "    3. Generate a RHG lattice\n",
    "    4. Look at clusters of the RHG lattice\n",
    "    5. Return the results\n",
    "\n",
    "    Returns:\n",
    "        - p: The input parameter for the simulation\n",
    "        - percolates: The number of times percolation occurred (True: 1, False: 0)\n",
    "        - times: The average time taken for the simulation\n",
    "    \"\"\"\n",
    "    \n",
    "    p = input_params\n",
    "\n",
    "    # Sanity check: check that this is equal to the move_list on the app\n",
    "    # print(np.reshape(np.argwhere(removed_nodes == True), shape=-1))\n",
    "    \n",
    "    percolates = 0\n",
    "    \n",
    "    times = np.zeros(samples)\n",
    "    diffs = np.zeros(samples)\n",
    "    for i in range(samples):\n",
    "        start = time.time()\n",
    "        G = Grid(shape)\n",
    "        removed_nodes = np.zeros(shape[0] * shape[1] * shape[2], dtype=bool)\n",
    "\n",
    "        G, D, removed_nodes = apply_error_channel(p, seed + i, shape, removed_nodes, G)\n",
    "\n",
    "        # Generate an RHG lattice out of G\n",
    "        G, removed_nodes, offsets = algorithm1(G, D, removed_nodes, shape)\n",
    "\n",
    "        xoffset, yoffset, zoffset = offsets\n",
    "\n",
    "        cubes, _ = D.find_lattice(removed_nodes, xoffset, yoffset, zoffset)\n",
    "\n",
    "        C = D.build_centers_graph(cubes)\n",
    "\n",
    "        largest_cc = max(nx.connected_components(C), key=len)\n",
    "        largest_cc = C.subgraph(largest_cc).copy()\n",
    "\n",
    "        # Check if the largest cluster percolates\n",
    "        low = np.array([np.inf, np.inf, np.inf])\n",
    "        high = np.zeros(3)\n",
    "\n",
    "        if not largest_cc:\n",
    "            #print(\"No clusters\")\n",
    "            diffs[i] = 0\n",
    "\n",
    "        else:\n",
    "            for node in largest_cc.nodes:\n",
    "                # Get the coordinates of the node\n",
    "                low = np.minimum(low, np.array(node))\n",
    "                high = np.maximum(high, np.array(node))\n",
    "            diffs[i] = high[2] - low[2] \n",
    "\n",
    "            #print(f\"high = {high}, low={low}, diff={diff}\")\n",
    "            if shape[2] - diffs[i] <= 3:\n",
    "                percolates += 1\n",
    "\n",
    "        times[i] = time.time() - start \n",
    "\n",
    "    return (p, percolates, diffs.mean(), times.mean())\n"
   ]
  },
  {
   "cell_type": "code",
   "execution_count": 40,
   "id": "a29c2fbb",
   "metadata": {},
   "outputs": [
    {
     "name": "stderr",
     "output_type": "stream",
     "text": [
      "100%|██████████| 20/20 [00:06<00:00,  3.17tasks/s]"
     ]
    },
    {
     "name": "stdout",
     "output_type": "stream",
     "text": [
      "[[0.00000000e+00 1.00000000e+00 1.97000000e+02 4.85991120e+00]\n",
      " [1.57894737e-02 1.00000000e+00 1.97000000e+02 3.92552805e+00]\n",
      " [3.15789474e-02 1.00000000e+00 1.97000000e+02 3.22105718e+00]\n",
      " [4.73684211e-02 1.00000000e+00 1.97000000e+02 2.77330112e+00]\n",
      " [6.31578947e-02 1.00000000e+00 1.97000000e+02 2.29045606e+00]\n",
      " [7.89473684e-02 1.00000000e+00 1.97000000e+02 1.97374797e+00]\n",
      " [9.47368421e-02 0.00000000e+00 1.25000000e+02 1.77333307e+00]\n",
      " [1.10526316e-01 0.00000000e+00 2.90000000e+01 1.58444715e+00]\n",
      " [1.26315789e-01 0.00000000e+00 1.20000000e+01 1.44261312e+00]\n",
      " [1.42105263e-01 0.00000000e+00 7.00000000e+00 1.30629683e+00]\n",
      " [1.57894737e-01 0.00000000e+00 7.00000000e+00 1.32108593e+00]\n",
      " [1.73684211e-01 0.00000000e+00 3.00000000e+00 1.41931987e+00]\n",
      " [1.89473684e-01 0.00000000e+00 2.00000000e+00 1.34938025e+00]\n",
      " [2.05263158e-01 0.00000000e+00 2.00000000e+00 1.29404902e+00]\n",
      " [2.21052632e-01 0.00000000e+00 4.00000000e+00 1.12737417e+00]\n",
      " [2.36842105e-01 0.00000000e+00 2.00000000e+00 1.25792813e+00]\n",
      " [2.52631579e-01 0.00000000e+00 1.00000000e+00 1.16714501e+00]\n",
      " [2.68421053e-01 0.00000000e+00 2.00000000e+00 1.13478923e+00]\n",
      " [2.84210526e-01 0.00000000e+00 1.00000000e+00 1.10762000e+00]\n",
      " [3.00000000e-01 0.00000000e+00 1.00000000e+00 1.03117895e+00]]\n"
     ]
    },
    {
     "name": "stderr",
     "output_type": "stream",
     "text": [
      "\n"
     ]
    }
   ],
   "source": [
    "results = ParallelTqdm(n_jobs=-1)([delayed(main)(x) for x in jobs_input_vec])\n",
    "results = np.array(results)\n",
    "print(results)"
   ]
  },
  {
   "cell_type": "code",
   "execution_count": 25,
   "id": "1763c797",
   "metadata": {},
   "outputs": [
    {
     "data": {
      "text/plain": [
       "<matplotlib.collections.PathCollection at 0x108963b30>"
      ]
     },
     "execution_count": 25,
     "metadata": {},
     "output_type": "execute_result"
    },
    {
     "data": {
      "image/png": "[encoded data removed]",
      "text/plain": [
       "<Figure size 640x480 with 1 Axes>"
      ]
     },
     "metadata": {},
     "output_type": "display_data"
    }
   ],
   "source": [
    "import matplotlib.pyplot as plt\n",
    "\n",
    "plt.scatter(results[:, 0], results[:, 2])"
   ]
  },
  {
   "cell_type": "code",
   "execution_count": null,
   "id": "2817ad7d",
   "metadata": {},
   "outputs": [],
   "source": []
  }
 ],
 "metadata": {
  "kernelspec": {
   "display_name": "mbqc",
   "language": "python",
   "name": "python3"
  },
  "language_info": {
   "codemirror_mode": {
    "name": "ipython",
    "version": 3
   },
   "file_extension": ".py",
   "mimetype": "text/x-python",
   "name": "python",
   "nbconvert_exporter": "python",
   "pygments_lexer": "ipython3",
   "version": "3.12.10"
  }
 },
 "nbformat": 4,
 "nbformat_minor": 5
}
