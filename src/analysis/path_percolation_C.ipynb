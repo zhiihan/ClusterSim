{
 "cells": [
  {
   "cell_type": "code",
   "execution_count": 1,
   "id": "49fb2e1f",
   "metadata": {},
   "outputs": [],
   "source": [
    "import numpy as np\n",
    "from cluster_sim.app.holes import Holes\n",
    "from cluster_sim.app.grid import Grid\n",
    "from cluster_sim.app.utils import get_node_coords\n",
    "\n",
    "import os\n",
    "from joblib import delayed, Parallel\n",
    "import time\n",
    "from analysis_funcs import algorithm1, apply_error_channel, ParallelTqdm\n",
    "import networkx as nx\n",
    "\n",
    "os.makedirs(\"./data\", exist_ok=True)\n",
    "\n",
    "shape = [20, 20, 200]\n",
    "seed = 12345\n",
    "\n",
    "samples = 5\n",
    "\n",
    "# The probabilities to simulate\n",
    "p_vec = np.linspace(0, 0.3, 20)\n",
    "\n",
    "# Input vector for all jobs\n",
    "jobs_input_vec = p_vec"
   ]
  },
  {
   "cell_type": "code",
   "execution_count": 2,
   "id": "8f6c63a5",
   "metadata": {},
   "outputs": [],
   "source": [
    "def main(input_params):\n",
    "    \"\"\"\n",
    "    Main function for parallel processing. Here, we:\n",
    "\n",
    "    1. Create a grid of the given shape\n",
    "    2. Apply the error channel to the grid\n",
    "    3. Generate a RHG lattice\n",
    "    4. Look at clusters of the RHG lattice\n",
    "    5. Return the results\n",
    "\n",
    "    Returns:\n",
    "        - p: The input parameter for the simulation\n",
    "        - percolates: The number of times percolation occurred (True: 1, False: 0)\n",
    "        - times: The average time taken for the simulation\n",
    "    \"\"\"\n",
    "    \n",
    "    p = input_params\n",
    "\n",
    "    # Sanity check: check that this is equal to the move_list on the app\n",
    "    # print(np.reshape(np.argwhere(removed_nodes == True), shape=-1))\n",
    "    \n",
    "    percolates = 0\n",
    "    \n",
    "    times = np.zeros(samples)\n",
    "    diffs = np.zeros(samples)\n",
    "    for i in range(samples):\n",
    "        start = time.time()\n",
    "        G = Grid(shape)\n",
    "        removed_nodes = np.zeros(shape[0] * shape[1] * shape[2], dtype=bool)\n",
    "\n",
    "        G, D, removed_nodes = apply_error_channel(p, seed + i, shape, removed_nodes, G)\n",
    "\n",
    "        # Generate an RHG lattice out of G\n",
    "        G, removed_nodes, offsets = algorithm1(G, D, removed_nodes, shape)\n",
    "\n",
    "        xoffset, yoffset, zoffset = offsets\n",
    "\n",
    "        cubes, _ = D.find_lattice(removed_nodes, xoffset, yoffset, zoffset)\n",
    "\n",
    "        C = D.build_centers_graph(cubes)\n",
    "\n",
    "        largest_cc = max(nx.connected_components(C), key=len)\n",
    "        largest_cc = C.subgraph(largest_cc).copy()\n",
    "\n",
    "        # Check if the largest cluster percolates\n",
    "        low = np.array([np.inf, np.inf, np.inf])\n",
    "        high = np.zeros(3)\n",
    "\n",
    "        if not largest_cc:\n",
    "            #print(\"No clusters\")\n",
    "            diffs[i] = 0\n",
    "\n",
    "        else:\n",
    "            for node in largest_cc.nodes:\n",
    "                # Get the coordinates of the node\n",
    "                low = np.minimum(low, np.array(node))\n",
    "                high = np.maximum(high, np.array(node))\n",
    "            diffs[i] = high[2] - low[2] \n",
    "\n",
    "            #print(f\"high = {high}, low={low}, diff={diff}\")\n",
    "            if shape[2] - diffs[i] <= 3:\n",
    "                percolates += 1\n",
    "\n",
    "        times[i] = time.time() - start \n",
    "\n",
    "    return (p, percolates, diffs.mean(), times.mean())\n"
   ]
  },
  {
   "cell_type": "code",
   "execution_count": 3,
   "id": "a29c2fbb",
   "metadata": {},
   "outputs": [
    {
     "name": "stderr",
     "output_type": "stream",
     "text": [
      "100%|██████████| 20/20 [00:28<00:00,  1.43s/tasks]"
     ]
    },
    {
     "name": "stdout",
     "output_type": "stream",
     "text": [
      "[[0.00000000e+00 5.00000000e+00 1.97000000e+02 5.03293152e+00]\n",
      " [1.57894737e-02 5.00000000e+00 1.97000000e+02 4.18765817e+00]\n",
      " [3.15789474e-02 5.00000000e+00 1.97000000e+02 3.42737350e+00]\n",
      " [4.73684211e-02 5.00000000e+00 1.97000000e+02 2.89729180e+00]\n",
      " [6.31578947e-02 5.00000000e+00 1.97000000e+02 2.50092487e+00]\n",
      " [7.89473684e-02 4.00000000e+00 1.79800000e+02 2.16988459e+00]\n",
      " [9.47368421e-02 0.00000000e+00 6.48000000e+01 1.94423032e+00]\n",
      " [1.10526316e-01 0.00000000e+00 2.56000000e+01 1.85870523e+00]\n",
      " [1.26315789e-01 0.00000000e+00 1.56000000e+01 1.62100468e+00]\n",
      " [1.42105263e-01 0.00000000e+00 1.14000000e+01 1.52795420e+00]\n",
      " [1.57894737e-01 0.00000000e+00 8.00000000e+00 1.48966498e+00]\n",
      " [1.73684211e-01 0.00000000e+00 5.00000000e+00 1.41908722e+00]\n",
      " [1.89473684e-01 0.00000000e+00 4.40000000e+00 1.45288649e+00]\n",
      " [2.05263158e-01 0.00000000e+00 3.40000000e+00 1.35424914e+00]\n",
      " [2.21052632e-01 0.00000000e+00 2.40000000e+00 1.32364802e+00]\n",
      " [2.36842105e-01 0.00000000e+00 2.80000000e+00 1.32478223e+00]\n",
      " [2.52631579e-01 0.00000000e+00 2.40000000e+00 1.32676611e+00]\n",
      " [2.68421053e-01 0.00000000e+00 1.40000000e+00 1.19399457e+00]\n",
      " [2.84210526e-01 0.00000000e+00 8.00000000e-01 1.10661182e+00]\n",
      " [3.00000000e-01 0.00000000e+00 8.00000000e-01 1.05970111e+00]]\n"
     ]
    },
    {
     "name": "stderr",
     "output_type": "stream",
     "text": [
      "\n"
     ]
    }
   ],
   "source": [
    "results = ParallelTqdm(n_jobs=-1)([delayed(main)(x) for x in jobs_input_vec])\n",
    "results = np.array(results)\n",
    "print(results)"
   ]
  },
  {
   "cell_type": "code",
   "execution_count": 4,
   "id": "1763c797",
   "metadata": {},
   "outputs": [
    {
     "data": {
      "image/png": "[encoded data removed]",
      "text/plain": [
       "<Figure size 640x480 with 1 Axes>"
      ]
     },
     "metadata": {},
     "output_type": "display_data"
    },
    {
     "name": "stderr",
     "output_type": "stream",
     "text": [
      "Exception ignored in: <function ResourceTracker.__del__ at 0x1035fe980>\n",
      "Traceback (most recent call last):\n",
      "  File \"/Users/zhihan/miniconda3/envs/mbqc/lib/python3.12/multiprocessing/resource_tracker.py\", line 77, in __del__\n",
      "  File \"/Users/zhihan/miniconda3/envs/mbqc/lib/python3.12/multiprocessing/resource_tracker.py\", line 86, in _stop\n",
      "  File \"/Users/zhihan/miniconda3/envs/mbqc/lib/python3.12/multiprocessing/resource_tracker.py\", line 111, in _stop_locked\n",
      "ChildProcessError: [Errno 10] No child processes\n",
      "Exception ignored in: <function ResourceTracker.__del__ at 0x104792980>\n",
      "Traceback (most recent call last):\n",
      "  File \"/Users/zhihan/miniconda3/envs/mbqc/lib/python3.12/multiprocessing/resource_tracker.py\", line 77, in __del__\n",
      "  File \"/Users/zhihan/miniconda3/envs/mbqc/lib/python3.12/multiprocessing/resource_tracker.py\", line 86, in _stop\n",
      "  File \"/Users/zhihan/miniconda3/envs/mbqc/lib/python3.12/multiprocessing/resource_tracker.py\", line 111, in _stop_locked\n",
      "ChildProcessError: [Errno 10] No child processes\n",
      "Exception ignored in: <function ResourceTracker.__del__ at 0x102f02980>\n",
      "Traceback (most recent call last):\n",
      "  File \"/Users/zhihan/miniconda3/envs/mbqc/lib/python3.12/multiprocessing/resource_tracker.py\", line 77, in __del__\n",
      "  File \"/Users/zhihan/miniconda3/envs/mbqc/lib/python3.12/multiprocessing/resource_tracker.py\", line 86, in _stop\n",
      "  File \"/Users/zhihan/miniconda3/envs/mbqc/lib/python3.12/multiprocessing/resource_tracker.py\", line 111, in _stop_locked\n",
      "ChildProcessError: [Errno 10] No child processes\n",
      "Exception ignored in: <function ResourceTracker.__del__ at 0x104bd2980>\n",
      "Traceback (most recent call last):\n",
      "  File \"/Users/zhihan/miniconda3/envs/mbqc/lib/python3.12/multiprocessing/resource_tracker.py\", line 77, in __del__\n",
      "  File \"/Users/zhihan/miniconda3/envs/mbqc/lib/python3.12/multiprocessing/resource_tracker.py\", line 86, in _stop\n",
      "  File \"/Users/zhihan/miniconda3/envs/mbqc/lib/python3.12/multiprocessing/resource_tracker.py\", line 111, in _stop_locked\n",
      "ChildProcessError: [Errno 10] No child processes\n",
      "Exception ignored in: <function ResourceTracker.__del__ at 0x10477a980>\n",
      "Traceback (most recent call last):\n",
      "  File \"/Users/zhihan/miniconda3/envs/mbqc/lib/python3.12/multiprocessing/resource_tracker.py\", line 77, in __del__\n",
      "  File \"/Users/zhihan/miniconda3/envs/mbqc/lib/python3.12/multiprocessing/resource_tracker.py\", line 86, in _stop\n",
      "  File \"/Users/zhihan/miniconda3/envs/mbqc/lib/python3.12/multiprocessing/resource_tracker.py\", line 111, in _stop_locked\n",
      "ChildProcessError: [Errno 10] No child processes\n",
      "Exception ignored in: <function ResourceTracker.__del__ at 0x104d76980>\n",
      "Traceback (most recent call last):\n",
      "  File \"/Users/zhihan/miniconda3/envs/mbqc/lib/python3.12/multiprocessing/resource_tracker.py\", line 77, in __del__\n",
      "  File \"/Users/zhihan/miniconda3/envs/mbqc/lib/python3.12/multiprocessing/resource_tracker.py\", line 86, in _stop\n",
      "  File \"/Users/zhihan/miniconda3/envs/mbqc/lib/python3.12/multiprocessing/resource_tracker.py\", line 111, in _stop_locked\n",
      "ChildProcessError: [Errno 10] No child processes\n",
      "Exception ignored in: <function ResourceTracker.__del__ at 0x106e7a980>\n",
      "Traceback (most recent call last):\n",
      "  File \"/Users/zhihan/miniconda3/envs/mbqc/lib/python3.12/multiprocessing/resource_tracker.py\", line 77, in __del__\n",
      "  File \"/Users/zhihan/miniconda3/envs/mbqc/lib/python3.12/multiprocessing/resource_tracker.py\", line 86, in _stop\n",
      "  File \"/Users/zhihan/miniconda3/envs/mbqc/lib/python3.12/multiprocessing/resource_tracker.py\", line 111, in _stop_locked\n",
      "ChildProcessError: [Errno 10] No child processes\n",
      "Exception ignored in: <function ResourceTracker.__del__ at 0x104d56980>\n",
      "Traceback (most recent call last):\n",
      "  File \"/Users/zhihan/miniconda3/envs/mbqc/lib/python3.12/multiprocessing/resource_tracker.py\", line 77, in __del__\n",
      "  File \"/Users/zhihan/miniconda3/envs/mbqc/lib/python3.12/multiprocessing/resource_tracker.py\", line 86, in _stop\n",
      "  File \"/Users/zhihan/miniconda3/envs/mbqc/lib/python3.12/multiprocessing/resource_tracker.py\", line 111, in _stop_locked\n",
      "ChildProcessError: [Errno 10] No child processes\n"
     ]
    }
   ],
   "source": [
    "import matplotlib.pyplot as plt\n",
    "\n",
    "plt.rcParams.update({\n",
    "    \"text.usetex\": True,\n",
    "    'font.family': 'serif',\n",
    "    'font.serif': ['Computer Modern']    \n",
    "    })\n",
    "\n",
    "plt.plot(results[:, 0], results[:, 2])\n",
    "plt.xlabel(r\"Probability of deletion $p$\")\n",
    "plt.ylabel(r\"Percolation distance $\\Delta z$\")\n",
    "plt.title(r\"Path percolation of RHG unit cells, $(d_x, d_y, d_z)=(20, 20, 200)$\")\n",
    "plt.savefig(f\"data/path_percolation_rhg_unit_cells{samples}.pdf\", dpi=300)"
   ]
  },
  {
   "cell_type": "code",
   "execution_count": null,
   "id": "2817ad7d",
   "metadata": {},
   "outputs": [],
   "source": []
  },
  {
   "cell_type": "code",
   "execution_count": null,
   "id": "5031bf84",
   "metadata": {},
   "outputs": [],
   "source": []
  }
 ],
 "metadata": {
  "kernelspec": {
   "display_name": "mbqc",
   "language": "python",
   "name": "python3"
  },
  "language_info": {
   "codemirror_mode": {
    "name": "ipython",
    "version": 3
   },
   "file_extension": ".py",
   "mimetype": "text/x-python",
   "name": "python",
   "nbconvert_exporter": "python",
   "pygments_lexer": "ipython3",
   "version": "3.12.10"
  }
 },
 "nbformat": 4,
 "nbformat_minor": 5
}
