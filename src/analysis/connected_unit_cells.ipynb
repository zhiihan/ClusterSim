{
 "cells": [
  {
   "cell_type": "code",
   "execution_count": 65,
   "id": "49fb2e1f",
   "metadata": {},
   "outputs": [],
   "source": [
    "import numpy as np\n",
    "import os\n",
    "from joblib import delayed, Parallel\n",
    "import time\n",
    "from analysis_funcs import rhg_lattice_scale, apply_error_channel, ParallelTqdm, find_connected_unit_cells\n",
    "import networkx as nx\n",
    "import matplotlib.pyplot as plt\n",
    "from cluster_sim.app.grid import Grid\n",
    "import pandas as pd\n",
    "\n",
    "\n",
    "os.makedirs(\"./data\", exist_ok=True)\n",
    "\n",
    "shape = [30, 30, 200]\n",
    "seed = 1\n",
    "\n",
    "samples = 1\n",
    "\n",
    "# Input vector for all jobs\n",
    "jobs_input_vec = [(p, scale) for scale in range(4, 6) for p in np.linspace(0, 0.3, 30)]\n"
   ]
  },
  {
   "cell_type": "code",
   "execution_count": 66,
   "id": "8f6c63a5",
   "metadata": {},
   "outputs": [],
   "source": [
    "def main(input_params):\n",
    "    \"\"\"\n",
    "    Main function for parallel processing. Here, we:\n",
    "\n",
    "    1. Create a grid of the given shape\n",
    "    2. Apply the error channel to the grid\n",
    "    3. Generate a RHG lattice\n",
    "    4. Look at clusters of the RHG lattice\n",
    "    5. Return the results\n",
    "\n",
    "    Returns:\n",
    "        - p: The input parameter for the simulation\n",
    "        - percolates: The number of times percolation occurred (True: 1, False: 0)\n",
    "        - times: The average time taken for the simulation\n",
    "    \"\"\"\n",
    "    \n",
    "    p, scale = input_params\n",
    "\n",
    "    # Sanity check: check that this is equal to the move_list on the app\n",
    "    # print(np.reshape(np.argwhere(removed_nodes == True), shape=-1))\n",
    "    \n",
    "    num_percolates = 0\n",
    "    \n",
    "    # store the outputs for 1 simulation\n",
    "    data_out = []\n",
    "\n",
    "    diff = 0\n",
    "\n",
    "    for i in range(samples):\n",
    "        percolate = 0\n",
    "        start = time.time()\n",
    "        G = Grid(shape)\n",
    "        removed_nodes = np.zeros(shape[0] * shape[1] * shape[2], dtype=bool)\n",
    "\n",
    "        G, D, removed_nodes = apply_error_channel(p, seed + i, shape, removed_nodes, G)\n",
    "        # Generate an RHG lattice out of G\n",
    "        G, D, removed_nodes, offsets = rhg_lattice_scale(G, D, removed_nodes, shape, scale_factor=scale)\n",
    "\n",
    "        C = find_connected_unit_cells(G, shape, offsets, scale_factor=scale)\n",
    "\n",
    "        if not C:\n",
    "            data_out.append({\n",
    "            \"sample\": i, \n",
    "            \"p\": p,\n",
    "            \"times\": time.time() - start,\n",
    "            \"unit_cells\": 0,\n",
    "            \"scale\": scale,\n",
    "            \"percolates\": 0,\n",
    "            \"diff\" : 0\n",
    "            })\n",
    "            continue\n",
    "        \n",
    "        largest_cc = max(nx.connected_components(C), key=len)\n",
    "        largest_cc = C.subgraph(largest_cc).copy()\n",
    "\n",
    "        # Check if the largest cluster percolates\n",
    "        low = np.array([np.inf, np.inf, np.inf])\n",
    "        high = np.zeros(3)\n",
    "\n",
    "        if not largest_cc:\n",
    "            #print(\"No clusters\")\n",
    "            diff = 0\n",
    "\n",
    "        else:\n",
    "            for node in largest_cc.nodes:\n",
    "                # Get the coordinates of the node\n",
    "                low = np.minimum(low, np.array(node))\n",
    "                high = np.maximum(high, np.array(node))\n",
    "            diff = high[2] - low[2] \n",
    "\n",
    "            #print(f\"high = {high}, low={low}, diff={diff}\")\n",
    "            if shape[2] - diff <= 2*(scale + 2):\n",
    "                num_percolates += 1\n",
    "                percolate = 1\n",
    "\n",
    "        end = time.time()\n",
    "\n",
    "        data_out.append({\n",
    "        \"sample\": i, \n",
    "        \"p\": p,\n",
    "        \"times\": end - start,\n",
    "        \"unit_cells\": largest_cc.number_of_nodes(),\n",
    "        \"scale\": scale,\n",
    "        \"percolates\": percolate,\n",
    "        \"diff\" : diff\n",
    "        })\n",
    "\n",
    "    print(f\"p = {p}, percolates = {num_percolates}\")\n",
    "\n",
    "    return data_out\n"
   ]
  },
  {
   "cell_type": "code",
   "execution_count": 67,
   "id": "a29c2fbb",
   "metadata": {},
   "outputs": [
    {
     "name": "stderr",
     "output_type": "stream",
     "text": [
      "  2%|▏         | 1/60 [00:13<13:25, 13.65s/tasks]"
     ]
    },
    {
     "name": "stdout",
     "output_type": "stream",
     "text": [
      "p = 0.0, percolates = 1\n"
     ]
    },
    {
     "name": "stderr",
     "output_type": "stream",
     "text": [
      "  3%|▎         | 2/60 [00:14<06:00,  6.21s/tasks]"
     ]
    },
    {
     "name": "stdout",
     "output_type": "stream",
     "text": [
      "p = 0.010344827586206896, percolates = 1\n"
     ]
    },
    {
     "name": "stderr",
     "output_type": "stream",
     "text": [
      "  5%|▌         | 3/60 [00:16<04:04,  4.29s/tasks]"
     ]
    },
    {
     "name": "stdout",
     "output_type": "stream",
     "text": [
      "p = 0.020689655172413793, percolates = 1\n"
     ]
    },
    {
     "name": "stderr",
     "output_type": "stream",
     "text": [
      "  7%|▋         | 4/60 [00:18<03:08,  3.36s/tasks]"
     ]
    },
    {
     "name": "stdout",
     "output_type": "stream",
     "text": [
      "p = 0.03103448275862069, percolates = 1\n"
     ]
    },
    {
     "name": "stderr",
     "output_type": "stream",
     "text": [
      "  8%|▊         | 5/60 [00:19<02:24,  2.64s/tasks]"
     ]
    },
    {
     "name": "stdout",
     "output_type": "stream",
     "text": [
      "p = 0.041379310344827586, percolates = 1\n"
     ]
    },
    {
     "name": "stderr",
     "output_type": "stream",
     "text": [
      " 10%|█         | 6/60 [00:20<01:53,  2.09s/tasks]"
     ]
    },
    {
     "name": "stdout",
     "output_type": "stream",
     "text": [
      "p = 0.05172413793103448, percolates = 1\n"
     ]
    },
    {
     "name": "stderr",
     "output_type": "stream",
     "text": [
      " 12%|█▏        | 7/60 [00:22<01:46,  2.00s/tasks]"
     ]
    },
    {
     "name": "stdout",
     "output_type": "stream",
     "text": [
      "p = 0.06206896551724138, percolates = 1\n"
     ]
    },
    {
     "name": "stderr",
     "output_type": "stream",
     "text": [
      " 13%|█▎        | 8/60 [00:24<01:35,  1.84s/tasks]"
     ]
    },
    {
     "name": "stdout",
     "output_type": "stream",
     "text": [
      "p = 0.07241379310344828, percolates = 1\n"
     ]
    },
    {
     "name": "stderr",
     "output_type": "stream",
     "text": [
      " 15%|█▌        | 9/60 [00:37<04:34,  5.38s/tasks]"
     ]
    },
    {
     "name": "stdout",
     "output_type": "stream",
     "text": [
      "p = 0.08275862068965517, percolates = 1\n"
     ]
    },
    {
     "name": "stderr",
     "output_type": "stream",
     "text": [
      " 17%|█▋        | 10/60 [00:39<03:32,  4.24s/tasks]"
     ]
    },
    {
     "name": "stdout",
     "output_type": "stream",
     "text": [
      "p = 0.09310344827586206, percolates = 1\n"
     ]
    },
    {
     "name": "stderr",
     "output_type": "stream",
     "text": [
      " 18%|█▊        | 11/60 [00:42<03:09,  3.87s/tasks]"
     ]
    },
    {
     "name": "stdout",
     "output_type": "stream",
     "text": [
      "p = 0.10344827586206896, percolates = 1\n",
      "p = 0.11379310344827587, percolates = 1\n"
     ]
    },
    {
     "name": "stderr",
     "output_type": "stream",
     "text": [
      " 22%|██▏       | 13/60 [00:48<02:43,  3.47s/tasks]"
     ]
    },
    {
     "name": "stdout",
     "output_type": "stream",
     "text": [
      "p = 0.12413793103448276, percolates = 1\n"
     ]
    },
    {
     "name": "stderr",
     "output_type": "stream",
     "text": [
      " 23%|██▎       | 14/60 [00:51<02:28,  3.23s/tasks]"
     ]
    },
    {
     "name": "stdout",
     "output_type": "stream",
     "text": [
      "p = 0.13448275862068965, percolates = 1\n"
     ]
    },
    {
     "name": "stderr",
     "output_type": "stream",
     "text": [
      " 25%|██▌       | 15/60 [00:53<02:08,  2.86s/tasks]"
     ]
    },
    {
     "name": "stdout",
     "output_type": "stream",
     "text": [
      "p = 0.14482758620689656, percolates = 1\n"
     ]
    },
    {
     "name": "stderr",
     "output_type": "stream",
     "text": [
      " 27%|██▋       | 16/60 [00:56<02:02,  2.79s/tasks]"
     ]
    },
    {
     "name": "stdout",
     "output_type": "stream",
     "text": [
      "p = 0.15517241379310345, percolates = 1\n"
     ]
    },
    {
     "name": "stderr",
     "output_type": "stream",
     "text": [
      " 28%|██▊       | 17/60 [01:10<04:34,  6.39s/tasks]"
     ]
    },
    {
     "name": "stdout",
     "output_type": "stream",
     "text": [
      "p = 0.16551724137931034, percolates = 1\n"
     ]
    },
    {
     "name": "stderr",
     "output_type": "stream",
     "text": [
      " 30%|███       | 18/60 [01:14<03:51,  5.52s/tasks]"
     ]
    },
    {
     "name": "stdout",
     "output_type": "stream",
     "text": [
      "p = 0.17586206896551723, percolates = 1\n"
     ]
    },
    {
     "name": "stderr",
     "output_type": "stream",
     "text": [
      " 32%|███▏      | 19/60 [01:19<03:44,  5.47s/tasks]"
     ]
    },
    {
     "name": "stdout",
     "output_type": "stream",
     "text": [
      "p = 0.18620689655172412, percolates = 0\n"
     ]
    },
    {
     "name": "stderr",
     "output_type": "stream",
     "text": [
      " 33%|███▎      | 20/60 [01:24<03:37,  5.43s/tasks]"
     ]
    },
    {
     "name": "stdout",
     "output_type": "stream",
     "text": [
      "p = 0.19655172413793104, percolates = 0\n"
     ]
    },
    {
     "name": "stderr",
     "output_type": "stream",
     "text": [
      " 35%|███▌      | 21/60 [01:27<03:02,  4.68s/tasks]"
     ]
    },
    {
     "name": "stdout",
     "output_type": "stream",
     "text": [
      "p = 0.20689655172413793, percolates = 0\n"
     ]
    },
    {
     "name": "stderr",
     "output_type": "stream",
     "text": [
      " 37%|███▋      | 22/60 [01:32<02:51,  4.51s/tasks]"
     ]
    },
    {
     "name": "stdout",
     "output_type": "stream",
     "text": [
      "p = 0.21724137931034482, percolates = 0\n"
     ]
    },
    {
     "name": "stderr",
     "output_type": "stream",
     "text": [
      " 38%|███▊      | 23/60 [01:35<02:34,  4.17s/tasks]"
     ]
    },
    {
     "name": "stdout",
     "output_type": "stream",
     "text": [
      "p = 0.22758620689655173, percolates = 0\n"
     ]
    },
    {
     "name": "stderr",
     "output_type": "stream",
     "text": [
      " 40%|████      | 24/60 [01:39<02:28,  4.13s/tasks]"
     ]
    },
    {
     "name": "stdout",
     "output_type": "stream",
     "text": [
      "p = 0.23793103448275862, percolates = 0\n"
     ]
    },
    {
     "name": "stderr",
     "output_type": "stream",
     "text": [
      " 42%|████▏     | 25/60 [01:45<02:46,  4.75s/tasks]"
     ]
    },
    {
     "name": "stdout",
     "output_type": "stream",
     "text": [
      "p = 0.0, percolates = 1\n"
     ]
    },
    {
     "name": "stderr",
     "output_type": "stream",
     "text": [
      " 43%|████▎     | 26/60 [01:50<02:45,  4.87s/tasks]"
     ]
    },
    {
     "name": "stdout",
     "output_type": "stream",
     "text": [
      "p = 0.010344827586206896, percolates = 1\n"
     ]
    },
    {
     "name": "stderr",
     "output_type": "stream",
     "text": [
      " 45%|████▌     | 27/60 [01:56<02:45,  5.01s/tasks]"
     ]
    },
    {
     "name": "stdout",
     "output_type": "stream",
     "text": [
      "p = 0.2482758620689655, percolates = 0\n"
     ]
    },
    {
     "name": "stderr",
     "output_type": "stream",
     "text": [
      " 47%|████▋     | 28/60 [02:00<02:32,  4.75s/tasks]"
     ]
    },
    {
     "name": "stdout",
     "output_type": "stream",
     "text": [
      "p = 0.020689655172413793, percolates = 1\n"
     ]
    },
    {
     "name": "stderr",
     "output_type": "stream",
     "text": [
      " 48%|████▊     | 29/60 [02:00<01:48,  3.51s/tasks]"
     ]
    },
    {
     "name": "stdout",
     "output_type": "stream",
     "text": [
      "p = 0.25862068965517243, percolates = 0\n"
     ]
    },
    {
     "name": "stderr",
     "output_type": "stream",
     "text": [
      " 50%|█████     | 30/60 [02:07<02:10,  4.34s/tasks]"
     ]
    },
    {
     "name": "stdout",
     "output_type": "stream",
     "text": [
      "p = 0.2689655172413793, percolates = 0\n"
     ]
    },
    {
     "name": "stderr",
     "output_type": "stream",
     "text": [
      " 52%|█████▏    | 31/60 [02:08<01:40,  3.45s/tasks]"
     ]
    },
    {
     "name": "stdout",
     "output_type": "stream",
     "text": [
      "p = 0.03103448275862069, percolates = 1\n"
     ]
    },
    {
     "name": "stderr",
     "output_type": "stream",
     "text": [
      " 53%|█████▎    | 32/60 [02:14<02:00,  4.30s/tasks]"
     ]
    },
    {
     "name": "stdout",
     "output_type": "stream",
     "text": [
      "p = 0.2793103448275862, percolates = 0\n"
     ]
    },
    {
     "name": "stderr",
     "output_type": "stream",
     "text": [
      " 55%|█████▌    | 33/60 [02:17<01:41,  3.77s/tasks]"
     ]
    },
    {
     "name": "stdout",
     "output_type": "stream",
     "text": [
      "p = 0.041379310344827586, percolates = 1\n"
     ]
    },
    {
     "name": "stderr",
     "output_type": "stream",
     "text": [
      " 57%|█████▋    | 34/60 [02:17<01:13,  2.82s/tasks]"
     ]
    },
    {
     "name": "stdout",
     "output_type": "stream",
     "text": [
      "p = 0.2896551724137931, percolates = 0\n"
     ]
    },
    {
     "name": "stderr",
     "output_type": "stream",
     "text": [
      " 58%|█████▊    | 35/60 [02:24<01:36,  3.87s/tasks]"
     ]
    },
    {
     "name": "stdout",
     "output_type": "stream",
     "text": [
      "p = 0.3, percolates = 0\n"
     ]
    },
    {
     "name": "stderr",
     "output_type": "stream",
     "text": [
      " 60%|██████    | 36/60 [02:25<01:13,  3.06s/tasks]"
     ]
    },
    {
     "name": "stdout",
     "output_type": "stream",
     "text": [
      "p = 0.05172413793103448, percolates = 1\n"
     ]
    },
    {
     "name": "stderr",
     "output_type": "stream",
     "text": [
      " 62%|██████▏   | 37/60 [02:28<01:10,  3.04s/tasks]"
     ]
    },
    {
     "name": "stdout",
     "output_type": "stream",
     "text": [
      "p = 0.06206896551724138, percolates = 1\n"
     ]
    },
    {
     "name": "stderr",
     "output_type": "stream",
     "text": [
      " 63%|██████▎   | 38/60 [02:35<01:35,  4.35s/tasks]"
     ]
    },
    {
     "name": "stdout",
     "output_type": "stream",
     "text": [
      "p = 0.07241379310344828, percolates = 1\n"
     ]
    },
    {
     "name": "stderr",
     "output_type": "stream",
     "text": [
      " 65%|██████▌   | 39/60 [02:39<01:24,  4.02s/tasks]"
     ]
    },
    {
     "name": "stdout",
     "output_type": "stream",
     "text": [
      "p = 0.08275862068965517, percolates = 1\n"
     ]
    },
    {
     "name": "stderr",
     "output_type": "stream",
     "text": [
      " 67%|██████▋   | 40/60 [02:47<01:47,  5.39s/tasks]"
     ]
    },
    {
     "name": "stdout",
     "output_type": "stream",
     "text": [
      "p = 0.09310344827586206, percolates = 1\n"
     ]
    },
    {
     "name": "stderr",
     "output_type": "stream",
     "text": [
      " 68%|██████▊   | 41/60 [02:52<01:41,  5.35s/tasks]"
     ]
    },
    {
     "name": "stdout",
     "output_type": "stream",
     "text": [
      "p = 0.10344827586206896, percolates = 1\n"
     ]
    },
    {
     "name": "stderr",
     "output_type": "stream",
     "text": [
      " 70%|███████   | 42/60 [02:55<01:20,  4.49s/tasks]"
     ]
    },
    {
     "name": "stdout",
     "output_type": "stream",
     "text": [
      "p = 0.11379310344827587, percolates = 1\n"
     ]
    },
    {
     "name": "stderr",
     "output_type": "stream",
     "text": [
      " 72%|███████▏  | 43/60 [03:03<01:36,  5.70s/tasks]"
     ]
    },
    {
     "name": "stdout",
     "output_type": "stream",
     "text": [
      "p = 0.12413793103448276, percolates = 1\n"
     ]
    },
    {
     "name": "stderr",
     "output_type": "stream",
     "text": [
      " 73%|███████▎  | 44/60 [03:07<01:21,  5.08s/tasks]"
     ]
    },
    {
     "name": "stdout",
     "output_type": "stream",
     "text": [
      "p = 0.13448275862068965, percolates = 1\n"
     ]
    },
    {
     "name": "stderr",
     "output_type": "stream",
     "text": [
      " 75%|███████▌  | 45/60 [03:13<01:20,  5.34s/tasks]"
     ]
    },
    {
     "name": "stdout",
     "output_type": "stream",
     "text": [
      "p = 0.14482758620689656, percolates = 1\n"
     ]
    },
    {
     "name": "stderr",
     "output_type": "stream",
     "text": [
      " 77%|███████▋  | 46/60 [03:22<01:30,  6.45s/tasks]"
     ]
    },
    {
     "name": "stdout",
     "output_type": "stream",
     "text": [
      "p = 0.15517241379310345, percolates = 1\n"
     ]
    },
    {
     "name": "stderr",
     "output_type": "stream",
     "text": [
      " 78%|███████▊  | 47/60 [03:27<01:19,  6.13s/tasks]"
     ]
    },
    {
     "name": "stdout",
     "output_type": "stream",
     "text": [
      "p = 0.16551724137931034, percolates = 1\n"
     ]
    },
    {
     "name": "stderr",
     "output_type": "stream",
     "text": [
      " 80%|████████  | 48/60 [03:38<01:30,  7.55s/tasks]"
     ]
    },
    {
     "name": "stdout",
     "output_type": "stream",
     "text": [
      "p = 0.17586206896551723, percolates = 1\n"
     ]
    },
    {
     "name": "stderr",
     "output_type": "stream",
     "text": [
      " 82%|████████▏ | 49/60 [03:46<01:24,  7.68s/tasks]"
     ]
    },
    {
     "name": "stdout",
     "output_type": "stream",
     "text": [
      "p = 0.18620689655172412, percolates = 1\n"
     ]
    },
    {
     "name": "stderr",
     "output_type": "stream",
     "text": [
      " 83%|████████▎ | 50/60 [03:51<01:06,  6.68s/tasks]"
     ]
    },
    {
     "name": "stdout",
     "output_type": "stream",
     "text": [
      "p = 0.19655172413793104, percolates = 1\n"
     ]
    },
    {
     "name": "stderr",
     "output_type": "stream",
     "text": [
      " 85%|████████▌ | 51/60 [04:02<01:13,  8.16s/tasks]"
     ]
    },
    {
     "name": "stdout",
     "output_type": "stream",
     "text": [
      "p = 0.20689655172413793, percolates = 1\n"
     ]
    },
    {
     "name": "stderr",
     "output_type": "stream",
     "text": [
      " 87%|████████▋ | 52/60 [04:09<01:01,  7.71s/tasks]"
     ]
    },
    {
     "name": "stdout",
     "output_type": "stream",
     "text": [
      "p = 0.21724137931034482, percolates = 0\n"
     ]
    },
    {
     "name": "stderr",
     "output_type": "stream",
     "text": [
      " 88%|████████▊ | 53/60 [04:17<00:53,  7.71s/tasks]"
     ]
    },
    {
     "name": "stdout",
     "output_type": "stream",
     "text": [
      "p = 0.22758620689655173, percolates = 0\n"
     ]
    },
    {
     "name": "stderr",
     "output_type": "stream",
     "text": [
      " 90%|█████████ | 54/60 [04:29<00:54,  9.06s/tasks]"
     ]
    },
    {
     "name": "stdout",
     "output_type": "stream",
     "text": [
      "p = 0.23793103448275862, percolates = 0\n"
     ]
    },
    {
     "name": "stderr",
     "output_type": "stream",
     "text": [
      " 92%|█████████▏| 55/60 [04:35<00:40,  8.14s/tasks]"
     ]
    },
    {
     "name": "stdout",
     "output_type": "stream",
     "text": [
      "p = 0.2482758620689655, percolates = 0\n"
     ]
    },
    {
     "name": "stderr",
     "output_type": "stream",
     "text": [
      " 93%|█████████▎| 56/60 [04:46<00:35,  8.94s/tasks]"
     ]
    },
    {
     "name": "stdout",
     "output_type": "stream",
     "text": [
      "p = 0.25862068965517243, percolates = 0\n"
     ]
    },
    {
     "name": "stderr",
     "output_type": "stream",
     "text": [
      " 95%|█████████▌| 57/60 [04:53<00:25,  8.42s/tasks]"
     ]
    },
    {
     "name": "stdout",
     "output_type": "stream",
     "text": [
      "p = 0.2689655172413793, percolates = 0\n"
     ]
    },
    {
     "name": "stderr",
     "output_type": "stream",
     "text": [
      " 97%|█████████▋| 58/60 [04:59<00:15,  7.61s/tasks]"
     ]
    },
    {
     "name": "stdout",
     "output_type": "stream",
     "text": [
      "p = 0.2793103448275862, percolates = 0\n"
     ]
    },
    {
     "name": "stderr",
     "output_type": "stream",
     "text": [
      " 98%|█████████▊| 59/60 [05:10<00:08,  8.76s/tasks]"
     ]
    },
    {
     "name": "stdout",
     "output_type": "stream",
     "text": [
      "p = 0.2896551724137931, percolates = 0\n"
     ]
    },
    {
     "name": "stderr",
     "output_type": "stream",
     "text": [
      "100%|██████████| 60/60 [05:17<00:00,  5.29s/tasks]"
     ]
    },
    {
     "name": "stdout",
     "output_type": "stream",
     "text": [
      "p = 0.3, percolates = 0\n"
     ]
    },
    {
     "name": "stderr",
     "output_type": "stream",
     "text": [
      "\n"
     ]
    }
   ],
   "source": [
    "results = ParallelTqdm(n_jobs=-1)([delayed(main)(x) for x in jobs_input_vec])\n",
    "results = [item for sublist in results for item in sublist]\n",
    "\n",
    "df = pd.DataFrame(results)\n",
    "df.to_csv(\"./data/test.csv\", index=False, header=False, mode='a')\n"
   ]
  },
  {
   "cell_type": "code",
   "execution_count": 69,
   "id": "5031bf84",
   "metadata": {},
   "outputs": [
    {
     "data": {
      "text/html": [
       "<div>\n",
       "<style scoped>\n",
       "    .dataframe tbody tr th:only-of-type {\n",
       "        vertical-align: middle;\n",
       "    }\n",
       "\n",
       "    .dataframe tbody tr th {\n",
       "        vertical-align: top;\n",
       "    }\n",
       "\n",
       "    .dataframe thead th {\n",
       "        text-align: right;\n",
       "    }\n",
       "</style>\n",
       "<table border=\"1\" class=\"dataframe\">\n",
       "  <thead>\n",
       "    <tr style=\"text-align: right;\">\n",
       "      <th></th>\n",
       "      <th>sample</th>\n",
       "      <th>p</th>\n",
       "      <th>times</th>\n",
       "      <th>unit_cells</th>\n",
       "      <th>scale</th>\n",
       "      <th>percolates</th>\n",
       "      <th>diff</th>\n",
       "    </tr>\n",
       "  </thead>\n",
       "  <tbody>\n",
       "    <tr>\n",
       "      <th>60</th>\n",
       "      <td>0</td>\n",
       "      <td>0.000000</td>\n",
       "      <td>24.844251</td>\n",
       "      <td>2401</td>\n",
       "      <td>3</td>\n",
       "      <td>1</td>\n",
       "      <td>192.0</td>\n",
       "    </tr>\n",
       "    <tr>\n",
       "      <th>61</th>\n",
       "      <td>0</td>\n",
       "      <td>0.010345</td>\n",
       "      <td>18.893583</td>\n",
       "      <td>1764</td>\n",
       "      <td>3</td>\n",
       "      <td>1</td>\n",
       "      <td>192.0</td>\n",
       "    </tr>\n",
       "    <tr>\n",
       "      <th>62</th>\n",
       "      <td>0</td>\n",
       "      <td>0.020690</td>\n",
       "      <td>18.805316</td>\n",
       "      <td>1756</td>\n",
       "      <td>3</td>\n",
       "      <td>1</td>\n",
       "      <td>192.0</td>\n",
       "    </tr>\n",
       "    <tr>\n",
       "      <th>63</th>\n",
       "      <td>0</td>\n",
       "      <td>0.031034</td>\n",
       "      <td>19.207125</td>\n",
       "      <td>1748</td>\n",
       "      <td>3</td>\n",
       "      <td>1</td>\n",
       "      <td>192.0</td>\n",
       "    </tr>\n",
       "    <tr>\n",
       "      <th>64</th>\n",
       "      <td>0</td>\n",
       "      <td>0.041379</td>\n",
       "      <td>20.199940</td>\n",
       "      <td>1728</td>\n",
       "      <td>3</td>\n",
       "      <td>1</td>\n",
       "      <td>192.0</td>\n",
       "    </tr>\n",
       "    <tr>\n",
       "      <th>65</th>\n",
       "      <td>0</td>\n",
       "      <td>0.051724</td>\n",
       "      <td>19.835087</td>\n",
       "      <td>1695</td>\n",
       "      <td>3</td>\n",
       "      <td>1</td>\n",
       "      <td>192.0</td>\n",
       "    </tr>\n",
       "    <tr>\n",
       "      <th>66</th>\n",
       "      <td>0</td>\n",
       "      <td>0.062069</td>\n",
       "      <td>21.199470</td>\n",
       "      <td>1675</td>\n",
       "      <td>3</td>\n",
       "      <td>1</td>\n",
       "      <td>192.0</td>\n",
       "    </tr>\n",
       "    <tr>\n",
       "      <th>67</th>\n",
       "      <td>0</td>\n",
       "      <td>0.072414</td>\n",
       "      <td>21.024895</td>\n",
       "      <td>1566</td>\n",
       "      <td>3</td>\n",
       "      <td>1</td>\n",
       "      <td>192.0</td>\n",
       "    </tr>\n",
       "    <tr>\n",
       "      <th>68</th>\n",
       "      <td>0</td>\n",
       "      <td>0.082759</td>\n",
       "      <td>21.421708</td>\n",
       "      <td>1522</td>\n",
       "      <td>3</td>\n",
       "      <td>1</td>\n",
       "      <td>192.0</td>\n",
       "    </tr>\n",
       "    <tr>\n",
       "      <th>69</th>\n",
       "      <td>0</td>\n",
       "      <td>0.093103</td>\n",
       "      <td>21.636928</td>\n",
       "      <td>1392</td>\n",
       "      <td>3</td>\n",
       "      <td>1</td>\n",
       "      <td>192.0</td>\n",
       "    </tr>\n",
       "    <tr>\n",
       "      <th>70</th>\n",
       "      <td>0</td>\n",
       "      <td>0.103448</td>\n",
       "      <td>22.092239</td>\n",
       "      <td>1304</td>\n",
       "      <td>3</td>\n",
       "      <td>1</td>\n",
       "      <td>192.0</td>\n",
       "    </tr>\n",
       "    <tr>\n",
       "      <th>71</th>\n",
       "      <td>0</td>\n",
       "      <td>0.113793</td>\n",
       "      <td>22.680882</td>\n",
       "      <td>1189</td>\n",
       "      <td>3</td>\n",
       "      <td>1</td>\n",
       "      <td>192.0</td>\n",
       "    </tr>\n",
       "    <tr>\n",
       "      <th>72</th>\n",
       "      <td>0</td>\n",
       "      <td>0.124138</td>\n",
       "      <td>24.376117</td>\n",
       "      <td>1068</td>\n",
       "      <td>3</td>\n",
       "      <td>1</td>\n",
       "      <td>192.0</td>\n",
       "    </tr>\n",
       "    <tr>\n",
       "      <th>73</th>\n",
       "      <td>0</td>\n",
       "      <td>0.134483</td>\n",
       "      <td>24.639039</td>\n",
       "      <td>905</td>\n",
       "      <td>3</td>\n",
       "      <td>1</td>\n",
       "      <td>192.0</td>\n",
       "    </tr>\n",
       "    <tr>\n",
       "      <th>74</th>\n",
       "      <td>0</td>\n",
       "      <td>0.144828</td>\n",
       "      <td>25.155999</td>\n",
       "      <td>797</td>\n",
       "      <td>3</td>\n",
       "      <td>1</td>\n",
       "      <td>192.0</td>\n",
       "    </tr>\n",
       "    <tr>\n",
       "      <th>75</th>\n",
       "      <td>0</td>\n",
       "      <td>0.155172</td>\n",
       "      <td>24.795531</td>\n",
       "      <td>582</td>\n",
       "      <td>3</td>\n",
       "      <td>0</td>\n",
       "      <td>176.0</td>\n",
       "    </tr>\n",
       "    <tr>\n",
       "      <th>76</th>\n",
       "      <td>0</td>\n",
       "      <td>0.165517</td>\n",
       "      <td>25.307879</td>\n",
       "      <td>98</td>\n",
       "      <td>3</td>\n",
       "      <td>0</td>\n",
       "      <td>40.0</td>\n",
       "    </tr>\n",
       "    <tr>\n",
       "      <th>77</th>\n",
       "      <td>0</td>\n",
       "      <td>0.175862</td>\n",
       "      <td>24.723517</td>\n",
       "      <td>134</td>\n",
       "      <td>3</td>\n",
       "      <td>0</td>\n",
       "      <td>88.0</td>\n",
       "    </tr>\n",
       "    <tr>\n",
       "      <th>78</th>\n",
       "      <td>0</td>\n",
       "      <td>0.186207</td>\n",
       "      <td>23.786107</td>\n",
       "      <td>35</td>\n",
       "      <td>3</td>\n",
       "      <td>0</td>\n",
       "      <td>20.0</td>\n",
       "    </tr>\n",
       "    <tr>\n",
       "      <th>79</th>\n",
       "      <td>0</td>\n",
       "      <td>0.196552</td>\n",
       "      <td>24.234382</td>\n",
       "      <td>25</td>\n",
       "      <td>3</td>\n",
       "      <td>0</td>\n",
       "      <td>20.0</td>\n",
       "    </tr>\n",
       "    <tr>\n",
       "      <th>80</th>\n",
       "      <td>0</td>\n",
       "      <td>0.206897</td>\n",
       "      <td>24.465726</td>\n",
       "      <td>10</td>\n",
       "      <td>3</td>\n",
       "      <td>0</td>\n",
       "      <td>4.0</td>\n",
       "    </tr>\n",
       "    <tr>\n",
       "      <th>81</th>\n",
       "      <td>0</td>\n",
       "      <td>0.217241</td>\n",
       "      <td>25.066801</td>\n",
       "      <td>11</td>\n",
       "      <td>3</td>\n",
       "      <td>0</td>\n",
       "      <td>12.0</td>\n",
       "    </tr>\n",
       "    <tr>\n",
       "      <th>82</th>\n",
       "      <td>0</td>\n",
       "      <td>0.227586</td>\n",
       "      <td>25.076292</td>\n",
       "      <td>4</td>\n",
       "      <td>3</td>\n",
       "      <td>0</td>\n",
       "      <td>0.0</td>\n",
       "    </tr>\n",
       "    <tr>\n",
       "      <th>83</th>\n",
       "      <td>0</td>\n",
       "      <td>0.237931</td>\n",
       "      <td>26.222918</td>\n",
       "      <td>7</td>\n",
       "      <td>3</td>\n",
       "      <td>0</td>\n",
       "      <td>4.0</td>\n",
       "    </tr>\n",
       "    <tr>\n",
       "      <th>84</th>\n",
       "      <td>0</td>\n",
       "      <td>0.248276</td>\n",
       "      <td>26.422292</td>\n",
       "      <td>5</td>\n",
       "      <td>3</td>\n",
       "      <td>0</td>\n",
       "      <td>0.0</td>\n",
       "    </tr>\n",
       "    <tr>\n",
       "      <th>85</th>\n",
       "      <td>0</td>\n",
       "      <td>0.258621</td>\n",
       "      <td>27.184885</td>\n",
       "      <td>7</td>\n",
       "      <td>3</td>\n",
       "      <td>0</td>\n",
       "      <td>4.0</td>\n",
       "    </tr>\n",
       "    <tr>\n",
       "      <th>86</th>\n",
       "      <td>0</td>\n",
       "      <td>0.268966</td>\n",
       "      <td>27.075639</td>\n",
       "      <td>3</td>\n",
       "      <td>3</td>\n",
       "      <td>0</td>\n",
       "      <td>0.0</td>\n",
       "    </tr>\n",
       "    <tr>\n",
       "      <th>87</th>\n",
       "      <td>0</td>\n",
       "      <td>0.279310</td>\n",
       "      <td>27.376712</td>\n",
       "      <td>3</td>\n",
       "      <td>3</td>\n",
       "      <td>0</td>\n",
       "      <td>4.0</td>\n",
       "    </tr>\n",
       "    <tr>\n",
       "      <th>88</th>\n",
       "      <td>0</td>\n",
       "      <td>0.289655</td>\n",
       "      <td>27.107360</td>\n",
       "      <td>2</td>\n",
       "      <td>3</td>\n",
       "      <td>0</td>\n",
       "      <td>4.0</td>\n",
       "    </tr>\n",
       "    <tr>\n",
       "      <th>89</th>\n",
       "      <td>0</td>\n",
       "      <td>0.300000</td>\n",
       "      <td>26.640360</td>\n",
       "      <td>2</td>\n",
       "      <td>3</td>\n",
       "      <td>0</td>\n",
       "      <td>4.0</td>\n",
       "    </tr>\n",
       "  </tbody>\n",
       "</table>\n",
       "</div>"
      ],
      "text/plain": [
       "    sample         p      times  unit_cells  scale  percolates   diff\n",
       "60       0  0.000000  24.844251        2401      3           1  192.0\n",
       "61       0  0.010345  18.893583        1764      3           1  192.0\n",
       "62       0  0.020690  18.805316        1756      3           1  192.0\n",
       "63       0  0.031034  19.207125        1748      3           1  192.0\n",
       "64       0  0.041379  20.199940        1728      3           1  192.0\n",
       "65       0  0.051724  19.835087        1695      3           1  192.0\n",
       "66       0  0.062069  21.199470        1675      3           1  192.0\n",
       "67       0  0.072414  21.024895        1566      3           1  192.0\n",
       "68       0  0.082759  21.421708        1522      3           1  192.0\n",
       "69       0  0.093103  21.636928        1392      3           1  192.0\n",
       "70       0  0.103448  22.092239        1304      3           1  192.0\n",
       "71       0  0.113793  22.680882        1189      3           1  192.0\n",
       "72       0  0.124138  24.376117        1068      3           1  192.0\n",
       "73       0  0.134483  24.639039         905      3           1  192.0\n",
       "74       0  0.144828  25.155999         797      3           1  192.0\n",
       "75       0  0.155172  24.795531         582      3           0  176.0\n",
       "76       0  0.165517  25.307879          98      3           0   40.0\n",
       "77       0  0.175862  24.723517         134      3           0   88.0\n",
       "78       0  0.186207  23.786107          35      3           0   20.0\n",
       "79       0  0.196552  24.234382          25      3           0   20.0\n",
       "80       0  0.206897  24.465726          10      3           0    4.0\n",
       "81       0  0.217241  25.066801          11      3           0   12.0\n",
       "82       0  0.227586  25.076292           4      3           0    0.0\n",
       "83       0  0.237931  26.222918           7      3           0    4.0\n",
       "84       0  0.248276  26.422292           5      3           0    0.0\n",
       "85       0  0.258621  27.184885           7      3           0    4.0\n",
       "86       0  0.268966  27.075639           3      3           0    0.0\n",
       "87       0  0.279310  27.376712           3      3           0    4.0\n",
       "88       0  0.289655  27.107360           2      3           0    4.0\n",
       "89       0  0.300000  26.640360           2      3           0    4.0"
      ]
     },
     "execution_count": 69,
     "metadata": {},
     "output_type": "execute_result"
    }
   ],
   "source": [
    "# Plotting for connected_unit cells\n",
    "\n",
    "import matplotlib.pyplot as plt\n",
    "import pandas as pd\n",
    "import numpy as np\n",
    "\n",
    "df = pd.read_csv(\"./data/test.csv\")\n",
    "\n",
    "df[df[\"scale\"]  == 3]"
   ]
  },
  {
   "cell_type": "code",
   "execution_count": 71,
   "id": "18be0f7a",
   "metadata": {},
   "outputs": [
    {
     "data": {
      "image/png": "[encoded data removed]",
      "text/plain": [
       "<Figure size 640x480 with 1 Axes>"
      ]
     },
     "metadata": {},
     "output_type": "display_data"
    }
   ],
   "source": [
    "plt.rcParams.update({\n",
    "    \"text.usetex\": True,\n",
    "    'font.family': 'serif',\n",
    "    'font.serif': ['Computer Modern']    \n",
    "    })\n",
    "\n",
    "#df['unit_cells_ratio'] = df['unit_cells']/df['unit_cells'].max()\n",
    "\n",
    "#plt.figure(figsize=(10, 6))\n",
    "for scale in df['scale'].unique():\n",
    "    subset = df[df['scale'] == scale]\n",
    "    plt.plot(subset['p'], subset['diff'], marker='o', label=f'Scale factor = {scale}')\n",
    "\n",
    "\n",
    "plt.title(\"$p$ vs. Largest percolation depth, shape = (30, 30, 200)\")\n",
    "plt.xlabel(\"Probability of deletion $p$\")\n",
    "plt.ylabel(\"Largest percolation depth\")\n",
    "plt.legend(title=\"Scale\")\n",
    "#plt.savefig(\"data/connected_cells.pdf\", dpi=300, bbox_inches='tight')\n",
    "plt.show()"
   ]
  },
  {
   "cell_type": "code",
   "execution_count": null,
   "id": "9c598cea",
   "metadata": {},
   "outputs": [],
   "source": []
  }
 ],
 "metadata": {
  "kernelspec": {
   "display_name": "mbqc",
   "language": "python",
   "name": "python3"
  },
  "language_info": {
   "codemirror_mode": {
    "name": "ipython",
    "version": 3
   },
   "file_extension": ".py",
   "mimetype": "text/x-python",
   "name": "python",
   "nbconvert_exporter": "python",
   "pygments_lexer": "ipython3",
   "version": "3.12.10"
  }
 },
 "nbformat": 4,
 "nbformat_minor": 5
}
