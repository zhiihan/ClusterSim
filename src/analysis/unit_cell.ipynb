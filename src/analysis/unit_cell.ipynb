{
 "cells": [
  {
   "cell_type": "code",
   "execution_count": 7,
   "id": "da49d440",
   "metadata": {},
   "outputs": [],
   "source": [
    "import numpy as np\n",
    "import os\n",
    "from joblib import delayed, Parallel\n",
    "import time\n",
    "from analysis_funcs import rhg_lattice_scale, apply_error_channel, ParallelTqdm, find_unit_cell\n",
    "import networkx as nx\n",
    "import matplotlib.pyplot as plt\n",
    "from cluster_sim.app.grid import Grid\n",
    "import pandas as pd\n",
    "\n",
    "\n",
    "os.makedirs(\"./data\", exist_ok=True)\n",
    "\n",
    "shape = [40, 40, 40]\n",
    "seed = 1\n",
    "\n",
    "samples = 1\n",
    "\n",
    "# Input vector for all jobs\n",
    "jobs_input_vec = [(p, scale) for scale in range(1, 4) for p in np.linspace(0, 0.3, 30)]\n"
   ]
  },
  {
   "cell_type": "code",
   "execution_count": 8,
   "id": "e115f99a",
   "metadata": {},
   "outputs": [],
   "source": [
    "def main(input_params):\n",
    "    \"\"\"\n",
    "    Main function for parallel processing. Here, we:\n",
    "\n",
    "    1. Create a grid of the given shape\n",
    "    2. Apply the error channel to the grid\n",
    "    3. Generate a RHG lattice\n",
    "    4. Look at clusters of the RHG lattice\n",
    "    5. Return the results\n",
    "\n",
    "    Returns:\n",
    "        - p: The input parameter for the simulation\n",
    "        - percolates: The number of times percolation occurred (True: 1, False: 0)\n",
    "        - times: The average time taken for the simulation\n",
    "    \"\"\"\n",
    "    \n",
    "    p, scale = input_params\n",
    "\n",
    "    # Sanity check: check that this is equal to the move_list on the app\n",
    "    # print(np.reshape(np.argwhere(removed_nodes == True), shape=-1))\n",
    "    \n",
    "    percolates = 0\n",
    "    \n",
    "    # store the outputs for 1 simulation\n",
    "    data_out = []\n",
    "\n",
    "    for i in range(samples):\n",
    "        start = time.time()\n",
    "        G = Grid(shape)\n",
    "        removed_nodes = np.zeros(shape[0] * shape[1] * shape[2], dtype=bool)\n",
    "\n",
    "        G, D, removed_nodes = apply_error_channel(p, seed + i, shape, removed_nodes, G)\n",
    "        # Generate an RHG lattice out of G\n",
    "        G, D, removed_nodes, offsets = rhg_lattice_scale(G, D, removed_nodes, shape, scale_factor=scale)\n",
    "\n",
    "        cells_count = find_unit_cell(G, shape, offsets, scale_factor=scale)\n",
    "        end = time.time()\n",
    "\n",
    "        data_out.append({\n",
    "        \"sample\": i, \n",
    "        \"p\": p,\n",
    "        \"times\": end - start,\n",
    "        \"unit_cells\": cells_count,\n",
    "        \"scale\": scale,\n",
    "        })\n",
    "\n",
    "    return data_out"
   ]
  },
  {
   "cell_type": "code",
   "execution_count": 9,
   "id": "69612221",
   "metadata": {},
   "outputs": [
    {
     "name": "stderr",
     "output_type": "stream",
     "text": [
      "100%|██████████| 90/90 [00:58<00:00,  1.55tasks/s]\n"
     ]
    }
   ],
   "source": [
    "results = ParallelTqdm(n_jobs=-1)([delayed(main)(x) for x in jobs_input_vec])\n",
    "\n",
    "results = [item for sublist in results for item in sublist]\n",
    "\n",
    "df = pd.DataFrame(results)\n",
    "df.to_csv(\"./data/test.csv\", index=False)\n"
   ]
  },
  {
   "cell_type": "code",
   "execution_count": null,
   "id": "bb8e4208",
   "metadata": {},
   "outputs": [],
   "source": []
  }
 ],
 "metadata": {
  "kernelspec": {
   "display_name": "mbqc",
   "language": "python",
   "name": "python3"
  },
  "language_info": {
   "codemirror_mode": {
    "name": "ipython",
    "version": 3
   },
   "file_extension": ".py",
   "mimetype": "text/x-python",
   "name": "python",
   "nbconvert_exporter": "python",
   "pygments_lexer": "ipython3",
   "version": "3.12.10"
  }
 },
 "nbformat": 4,
 "nbformat_minor": 5
}
